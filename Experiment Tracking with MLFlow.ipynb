{
 "cells": [
  {
   "cell_type": "markdown",
   "id": "28c640a6",
   "metadata": {},
   "source": [
    "# Productionisation of Machine Learning Models (Model Serialization)"
   ]
  },
  {
   "cell_type": "markdown",
   "id": "2feab0d0",
   "metadata": {},
   "source": [
    "# Diamond Price Prediction\n",
    "\n",
    "## About the Dataset\n",
    "\n",
    "### This classic dataset contains the prices and other attributes of almost 54,000 diamonds. \n",
    "\n",
    "\n",
    "\n",
    "**carat** weight of the diamond (0.2--5.01)\n",
    "\n",
    "**cut** quality of the cut (Fair, Good, Very Good, Premium, Ideal)\n",
    "\n",
    "**color** diamond colour, from J (worst) to D (best)\n",
    "\n",
    "**clarity** a measurement of how clear the diamond is (I1 (worst), SI2, SI1, VS2, VS1, VVS2, VVS1, IF (best))\n",
    "\n",
    "**depth** total depth percentage = z / mean(x, y) = 2 * z / (x + y) (43--79)\n",
    "\n",
    "**table** width of top of diamond relative to widest point (43--95)\n",
    "\n",
    "**x** length in mm (0--10.74)\n",
    "\n",
    "**y** width in mm (0--58.9)\n",
    "\n",
    "**z** depth in mm (0--31.8)\n",
    "\n",
    "**price** in US dollars (\\$326--\\$18,823)"
   ]
  },
  {
   "cell_type": "markdown",
   "id": "6244a381",
   "metadata": {},
   "source": [
    "**Loading Dataset**"
   ]
  },
  {
   "cell_type": "code",
   "execution_count": 1,
   "id": "77bf09be",
   "metadata": {},
   "outputs": [],
   "source": [
    "import pandas as pd\n",
    "import numpy as np\n",
    "import matplotlib.pyplot as plt\n",
    "import seaborn as sns"
   ]
  },
  {
   "cell_type": "markdown",
   "id": "cc5df231",
   "metadata": {},
   "source": [
    "**Loading Dataset**"
   ]
  },
  {
   "cell_type": "code",
   "execution_count": 2,
   "id": "0458f89d",
   "metadata": {},
   "outputs": [],
   "source": [
    "df = pd.read_csv(\"diamonds_data.csv\")"
   ]
  },
  {
   "cell_type": "code",
   "execution_count": 3,
   "id": "af5ee2e6",
   "metadata": {},
   "outputs": [
    {
     "data": {
      "text/html": [
       "<div>\n",
       "<style scoped>\n",
       "    .dataframe tbody tr th:only-of-type {\n",
       "        vertical-align: middle;\n",
       "    }\n",
       "\n",
       "    .dataframe tbody tr th {\n",
       "        vertical-align: top;\n",
       "    }\n",
       "\n",
       "    .dataframe thead th {\n",
       "        text-align: right;\n",
       "    }\n",
       "</style>\n",
       "<table border=\"1\" class=\"dataframe\">\n",
       "  <thead>\n",
       "    <tr style=\"text-align: right;\">\n",
       "      <th></th>\n",
       "      <th>carat</th>\n",
       "      <th>cut</th>\n",
       "      <th>color</th>\n",
       "      <th>clarity</th>\n",
       "      <th>depth</th>\n",
       "      <th>table</th>\n",
       "      <th>price</th>\n",
       "      <th>x</th>\n",
       "      <th>y</th>\n",
       "      <th>z</th>\n",
       "    </tr>\n",
       "  </thead>\n",
       "  <tbody>\n",
       "    <tr>\n",
       "      <th>0</th>\n",
       "      <td>0.23</td>\n",
       "      <td>Ideal</td>\n",
       "      <td>E</td>\n",
       "      <td>SI2</td>\n",
       "      <td>61.5</td>\n",
       "      <td>55.0</td>\n",
       "      <td>326</td>\n",
       "      <td>3.95</td>\n",
       "      <td>3.98</td>\n",
       "      <td>2.43</td>\n",
       "    </tr>\n",
       "    <tr>\n",
       "      <th>1</th>\n",
       "      <td>0.21</td>\n",
       "      <td>Premium</td>\n",
       "      <td>E</td>\n",
       "      <td>SI1</td>\n",
       "      <td>59.8</td>\n",
       "      <td>61.0</td>\n",
       "      <td>326</td>\n",
       "      <td>3.89</td>\n",
       "      <td>3.84</td>\n",
       "      <td>2.31</td>\n",
       "    </tr>\n",
       "    <tr>\n",
       "      <th>2</th>\n",
       "      <td>0.23</td>\n",
       "      <td>Good</td>\n",
       "      <td>E</td>\n",
       "      <td>VS1</td>\n",
       "      <td>56.9</td>\n",
       "      <td>65.0</td>\n",
       "      <td>327</td>\n",
       "      <td>4.05</td>\n",
       "      <td>4.07</td>\n",
       "      <td>2.31</td>\n",
       "    </tr>\n",
       "    <tr>\n",
       "      <th>3</th>\n",
       "      <td>0.29</td>\n",
       "      <td>Premium</td>\n",
       "      <td>I</td>\n",
       "      <td>VS2</td>\n",
       "      <td>62.4</td>\n",
       "      <td>58.0</td>\n",
       "      <td>334</td>\n",
       "      <td>4.20</td>\n",
       "      <td>4.23</td>\n",
       "      <td>2.63</td>\n",
       "    </tr>\n",
       "    <tr>\n",
       "      <th>4</th>\n",
       "      <td>0.31</td>\n",
       "      <td>Good</td>\n",
       "      <td>J</td>\n",
       "      <td>SI2</td>\n",
       "      <td>63.3</td>\n",
       "      <td>58.0</td>\n",
       "      <td>335</td>\n",
       "      <td>4.34</td>\n",
       "      <td>4.35</td>\n",
       "      <td>2.75</td>\n",
       "    </tr>\n",
       "  </tbody>\n",
       "</table>\n",
       "</div>"
      ],
      "text/plain": [
       "   carat      cut color clarity  depth  table  price     x     y     z\n",
       "0   0.23    Ideal     E     SI2   61.5   55.0    326  3.95  3.98  2.43\n",
       "1   0.21  Premium     E     SI1   59.8   61.0    326  3.89  3.84  2.31\n",
       "2   0.23     Good     E     VS1   56.9   65.0    327  4.05  4.07  2.31\n",
       "3   0.29  Premium     I     VS2   62.4   58.0    334  4.20  4.23  2.63\n",
       "4   0.31     Good     J     SI2   63.3   58.0    335  4.34  4.35  2.75"
      ]
     },
     "execution_count": 3,
     "metadata": {},
     "output_type": "execute_result"
    }
   ],
   "source": [
    "# Printing Top 5 Rows\n",
    "\n",
    "df.head()"
   ]
  },
  {
   "cell_type": "code",
   "execution_count": 4,
   "id": "0695f9c2",
   "metadata": {},
   "outputs": [
    {
     "data": {
      "text/html": [
       "<div>\n",
       "<style scoped>\n",
       "    .dataframe tbody tr th:only-of-type {\n",
       "        vertical-align: middle;\n",
       "    }\n",
       "\n",
       "    .dataframe tbody tr th {\n",
       "        vertical-align: top;\n",
       "    }\n",
       "\n",
       "    .dataframe thead th {\n",
       "        text-align: right;\n",
       "    }\n",
       "</style>\n",
       "<table border=\"1\" class=\"dataframe\">\n",
       "  <thead>\n",
       "    <tr style=\"text-align: right;\">\n",
       "      <th></th>\n",
       "      <th>carat</th>\n",
       "      <th>cut</th>\n",
       "      <th>color</th>\n",
       "      <th>clarity</th>\n",
       "      <th>depth</th>\n",
       "      <th>table</th>\n",
       "      <th>price</th>\n",
       "      <th>x</th>\n",
       "      <th>y</th>\n",
       "      <th>z</th>\n",
       "    </tr>\n",
       "  </thead>\n",
       "  <tbody>\n",
       "    <tr>\n",
       "      <th>53935</th>\n",
       "      <td>0.72</td>\n",
       "      <td>Ideal</td>\n",
       "      <td>D</td>\n",
       "      <td>SI1</td>\n",
       "      <td>60.8</td>\n",
       "      <td>57.0</td>\n",
       "      <td>2757</td>\n",
       "      <td>5.75</td>\n",
       "      <td>5.76</td>\n",
       "      <td>3.50</td>\n",
       "    </tr>\n",
       "    <tr>\n",
       "      <th>53936</th>\n",
       "      <td>0.72</td>\n",
       "      <td>Good</td>\n",
       "      <td>D</td>\n",
       "      <td>SI1</td>\n",
       "      <td>63.1</td>\n",
       "      <td>55.0</td>\n",
       "      <td>2757</td>\n",
       "      <td>5.69</td>\n",
       "      <td>5.75</td>\n",
       "      <td>3.61</td>\n",
       "    </tr>\n",
       "    <tr>\n",
       "      <th>53937</th>\n",
       "      <td>0.70</td>\n",
       "      <td>Very Good</td>\n",
       "      <td>D</td>\n",
       "      <td>SI1</td>\n",
       "      <td>62.8</td>\n",
       "      <td>60.0</td>\n",
       "      <td>2757</td>\n",
       "      <td>5.66</td>\n",
       "      <td>5.68</td>\n",
       "      <td>3.56</td>\n",
       "    </tr>\n",
       "    <tr>\n",
       "      <th>53938</th>\n",
       "      <td>0.86</td>\n",
       "      <td>Premium</td>\n",
       "      <td>H</td>\n",
       "      <td>SI2</td>\n",
       "      <td>61.0</td>\n",
       "      <td>58.0</td>\n",
       "      <td>2757</td>\n",
       "      <td>6.15</td>\n",
       "      <td>6.12</td>\n",
       "      <td>3.74</td>\n",
       "    </tr>\n",
       "    <tr>\n",
       "      <th>53939</th>\n",
       "      <td>0.75</td>\n",
       "      <td>Ideal</td>\n",
       "      <td>D</td>\n",
       "      <td>SI2</td>\n",
       "      <td>62.2</td>\n",
       "      <td>55.0</td>\n",
       "      <td>2757</td>\n",
       "      <td>5.83</td>\n",
       "      <td>5.87</td>\n",
       "      <td>3.64</td>\n",
       "    </tr>\n",
       "  </tbody>\n",
       "</table>\n",
       "</div>"
      ],
      "text/plain": [
       "       carat        cut color clarity  depth  table  price     x     y     z\n",
       "53935   0.72      Ideal     D     SI1   60.8   57.0   2757  5.75  5.76  3.50\n",
       "53936   0.72       Good     D     SI1   63.1   55.0   2757  5.69  5.75  3.61\n",
       "53937   0.70  Very Good     D     SI1   62.8   60.0   2757  5.66  5.68  3.56\n",
       "53938   0.86    Premium     H     SI2   61.0   58.0   2757  6.15  6.12  3.74\n",
       "53939   0.75      Ideal     D     SI2   62.2   55.0   2757  5.83  5.87  3.64"
      ]
     },
     "execution_count": 4,
     "metadata": {},
     "output_type": "execute_result"
    }
   ],
   "source": [
    "# Printing Last 5 Rows\n",
    "\n",
    "df.tail()"
   ]
  },
  {
   "cell_type": "code",
   "execution_count": 5,
   "id": "709da2c9",
   "metadata": {},
   "outputs": [
    {
     "data": {
      "text/html": [
       "<div>\n",
       "<style scoped>\n",
       "    .dataframe tbody tr th:only-of-type {\n",
       "        vertical-align: middle;\n",
       "    }\n",
       "\n",
       "    .dataframe tbody tr th {\n",
       "        vertical-align: top;\n",
       "    }\n",
       "\n",
       "    .dataframe thead th {\n",
       "        text-align: right;\n",
       "    }\n",
       "</style>\n",
       "<table border=\"1\" class=\"dataframe\">\n",
       "  <thead>\n",
       "    <tr style=\"text-align: right;\">\n",
       "      <th></th>\n",
       "      <th>carat</th>\n",
       "      <th>cut</th>\n",
       "      <th>color</th>\n",
       "      <th>clarity</th>\n",
       "      <th>depth</th>\n",
       "      <th>table</th>\n",
       "      <th>price</th>\n",
       "      <th>x</th>\n",
       "      <th>y</th>\n",
       "      <th>z</th>\n",
       "    </tr>\n",
       "  </thead>\n",
       "  <tbody>\n",
       "    <tr>\n",
       "      <th>12394</th>\n",
       "      <td>1.01</td>\n",
       "      <td>Good</td>\n",
       "      <td>E</td>\n",
       "      <td>SI1</td>\n",
       "      <td>64.2</td>\n",
       "      <td>59.0</td>\n",
       "      <td>5232</td>\n",
       "      <td>6.27</td>\n",
       "      <td>6.19</td>\n",
       "      <td>4.00</td>\n",
       "    </tr>\n",
       "    <tr>\n",
       "      <th>45285</th>\n",
       "      <td>0.52</td>\n",
       "      <td>Ideal</td>\n",
       "      <td>G</td>\n",
       "      <td>VS1</td>\n",
       "      <td>60.9</td>\n",
       "      <td>56.0</td>\n",
       "      <td>1662</td>\n",
       "      <td>5.20</td>\n",
       "      <td>5.24</td>\n",
       "      <td>3.18</td>\n",
       "    </tr>\n",
       "    <tr>\n",
       "      <th>9835</th>\n",
       "      <td>1.01</td>\n",
       "      <td>Premium</td>\n",
       "      <td>D</td>\n",
       "      <td>SI2</td>\n",
       "      <td>60.9</td>\n",
       "      <td>62.0</td>\n",
       "      <td>4672</td>\n",
       "      <td>6.45</td>\n",
       "      <td>6.43</td>\n",
       "      <td>3.92</td>\n",
       "    </tr>\n",
       "    <tr>\n",
       "      <th>53792</th>\n",
       "      <td>0.51</td>\n",
       "      <td>Ideal</td>\n",
       "      <td>F</td>\n",
       "      <td>IF</td>\n",
       "      <td>62.5</td>\n",
       "      <td>54.0</td>\n",
       "      <td>2730</td>\n",
       "      <td>5.12</td>\n",
       "      <td>5.16</td>\n",
       "      <td>3.21</td>\n",
       "    </tr>\n",
       "    <tr>\n",
       "      <th>33698</th>\n",
       "      <td>0.33</td>\n",
       "      <td>Ideal</td>\n",
       "      <td>G</td>\n",
       "      <td>VVS1</td>\n",
       "      <td>61.1</td>\n",
       "      <td>56.0</td>\n",
       "      <td>838</td>\n",
       "      <td>4.47</td>\n",
       "      <td>4.50</td>\n",
       "      <td>2.74</td>\n",
       "    </tr>\n",
       "    <tr>\n",
       "      <th>44266</th>\n",
       "      <td>0.52</td>\n",
       "      <td>Ideal</td>\n",
       "      <td>E</td>\n",
       "      <td>VS2</td>\n",
       "      <td>62.1</td>\n",
       "      <td>56.0</td>\n",
       "      <td>1576</td>\n",
       "      <td>5.17</td>\n",
       "      <td>5.20</td>\n",
       "      <td>3.22</td>\n",
       "    </tr>\n",
       "    <tr>\n",
       "      <th>1567</th>\n",
       "      <td>0.73</td>\n",
       "      <td>Ideal</td>\n",
       "      <td>H</td>\n",
       "      <td>VVS1</td>\n",
       "      <td>61.6</td>\n",
       "      <td>57.0</td>\n",
       "      <td>3005</td>\n",
       "      <td>5.81</td>\n",
       "      <td>5.78</td>\n",
       "      <td>3.57</td>\n",
       "    </tr>\n",
       "    <tr>\n",
       "      <th>3716</th>\n",
       "      <td>0.82</td>\n",
       "      <td>Ideal</td>\n",
       "      <td>F</td>\n",
       "      <td>VS2</td>\n",
       "      <td>61.9</td>\n",
       "      <td>57.0</td>\n",
       "      <td>3453</td>\n",
       "      <td>5.99</td>\n",
       "      <td>5.96</td>\n",
       "      <td>3.70</td>\n",
       "    </tr>\n",
       "    <tr>\n",
       "      <th>15810</th>\n",
       "      <td>1.01</td>\n",
       "      <td>Very Good</td>\n",
       "      <td>G</td>\n",
       "      <td>VS1</td>\n",
       "      <td>62.7</td>\n",
       "      <td>56.0</td>\n",
       "      <td>6326</td>\n",
       "      <td>6.36</td>\n",
       "      <td>6.46</td>\n",
       "      <td>4.02</td>\n",
       "    </tr>\n",
       "    <tr>\n",
       "      <th>52522</th>\n",
       "      <td>0.58</td>\n",
       "      <td>Ideal</td>\n",
       "      <td>G</td>\n",
       "      <td>IF</td>\n",
       "      <td>61.3</td>\n",
       "      <td>56.0</td>\n",
       "      <td>2528</td>\n",
       "      <td>5.36</td>\n",
       "      <td>5.39</td>\n",
       "      <td>3.29</td>\n",
       "    </tr>\n",
       "  </tbody>\n",
       "</table>\n",
       "</div>"
      ],
      "text/plain": [
       "       carat        cut color clarity  depth  table  price     x     y     z\n",
       "12394   1.01       Good     E     SI1   64.2   59.0   5232  6.27  6.19  4.00\n",
       "45285   0.52      Ideal     G     VS1   60.9   56.0   1662  5.20  5.24  3.18\n",
       "9835    1.01    Premium     D     SI2   60.9   62.0   4672  6.45  6.43  3.92\n",
       "53792   0.51      Ideal     F      IF   62.5   54.0   2730  5.12  5.16  3.21\n",
       "33698   0.33      Ideal     G    VVS1   61.1   56.0    838  4.47  4.50  2.74\n",
       "44266   0.52      Ideal     E     VS2   62.1   56.0   1576  5.17  5.20  3.22\n",
       "1567    0.73      Ideal     H    VVS1   61.6   57.0   3005  5.81  5.78  3.57\n",
       "3716    0.82      Ideal     F     VS2   61.9   57.0   3453  5.99  5.96  3.70\n",
       "15810   1.01  Very Good     G     VS1   62.7   56.0   6326  6.36  6.46  4.02\n",
       "52522   0.58      Ideal     G      IF   61.3   56.0   2528  5.36  5.39  3.29"
      ]
     },
     "execution_count": 5,
     "metadata": {},
     "output_type": "execute_result"
    }
   ],
   "source": [
    "# Printing Random 10 Rows\n",
    "\n",
    "df.sample(10)"
   ]
  },
  {
   "cell_type": "markdown",
   "id": "1f4ecf01",
   "metadata": {},
   "source": [
    "## EDA"
   ]
  },
  {
   "cell_type": "code",
   "execution_count": 6,
   "id": "dea279a3",
   "metadata": {},
   "outputs": [
    {
     "name": "stdout",
     "output_type": "stream",
     "text": [
      "Total Number of Rows    :  53940\n",
      "Total Number of Columns :  10\n"
     ]
    }
   ],
   "source": [
    "# Printing Total Number of Rows and Columns\n",
    "\n",
    "print(\"Total Number of Rows    : \" , df.shape[0])\n",
    "print(\"Total Number of Columns : \" , df.shape[1])"
   ]
  },
  {
   "cell_type": "code",
   "execution_count": 7,
   "id": "ce59c258",
   "metadata": {},
   "outputs": [
    {
     "data": {
      "text/plain": [
       "carat      0\n",
       "cut        0\n",
       "color      0\n",
       "clarity    0\n",
       "depth      0\n",
       "table      0\n",
       "price      0\n",
       "x          0\n",
       "y          0\n",
       "z          0\n",
       "dtype: int64"
      ]
     },
     "execution_count": 7,
     "metadata": {},
     "output_type": "execute_result"
    }
   ],
   "source": [
    "# Printing Null Values\n",
    "\n",
    "df.isnull().sum()"
   ]
  },
  {
   "cell_type": "code",
   "execution_count": 8,
   "id": "1aee078a",
   "metadata": {},
   "outputs": [
    {
     "data": {
      "text/plain": [
       "146"
      ]
     },
     "execution_count": 8,
     "metadata": {},
     "output_type": "execute_result"
    }
   ],
   "source": [
    "# Printing Duplicated Values\n",
    "\n",
    "df.duplicated().sum()"
   ]
  },
  {
   "cell_type": "code",
   "execution_count": 9,
   "id": "69ddd697",
   "metadata": {},
   "outputs": [],
   "source": [
    "# Dropping Duplicated Values\n",
    "\n",
    "df.drop_duplicates(inplace=True)"
   ]
  },
  {
   "cell_type": "code",
   "execution_count": 10,
   "id": "f7a6d24c",
   "metadata": {},
   "outputs": [
    {
     "data": {
      "text/plain": [
       "0"
      ]
     },
     "execution_count": 10,
     "metadata": {},
     "output_type": "execute_result"
    }
   ],
   "source": [
    "# Printing Duplicated Values Afer Dropping Duplicated Values\n",
    "\n",
    "df.duplicated().sum()"
   ]
  },
  {
   "cell_type": "code",
   "execution_count": 11,
   "id": "1663b81d",
   "metadata": {},
   "outputs": [
    {
     "name": "stdout",
     "output_type": "stream",
     "text": [
      "Total Number of Rows    :  53794\n",
      "Total Number of Columns :  10\n"
     ]
    }
   ],
   "source": [
    "# Printing Total Number of Rows and Columns Afer Dropping Duplicated Values\n",
    "\n",
    "print(\"Total Number of Rows    : \" , df.shape[0])\n",
    "print(\"Total Number of Columns : \" , df.shape[1])"
   ]
  },
  {
   "cell_type": "code",
   "execution_count": 12,
   "id": "99742099",
   "metadata": {},
   "outputs": [
    {
     "name": "stdout",
     "output_type": "stream",
     "text": [
      "<class 'pandas.core.frame.DataFrame'>\n",
      "Int64Index: 53794 entries, 0 to 53939\n",
      "Data columns (total 10 columns):\n",
      " #   Column   Non-Null Count  Dtype  \n",
      "---  ------   --------------  -----  \n",
      " 0   carat    53794 non-null  float64\n",
      " 1   cut      53794 non-null  object \n",
      " 2   color    53794 non-null  object \n",
      " 3   clarity  53794 non-null  object \n",
      " 4   depth    53794 non-null  float64\n",
      " 5   table    53794 non-null  float64\n",
      " 6   price    53794 non-null  int64  \n",
      " 7   x        53794 non-null  float64\n",
      " 8   y        53794 non-null  float64\n",
      " 9   z        53794 non-null  float64\n",
      "dtypes: float64(6), int64(1), object(3)\n",
      "memory usage: 4.5+ MB\n"
     ]
    }
   ],
   "source": [
    "# PRinting Dataset Information\n",
    "\n",
    "df.info()"
   ]
  },
  {
   "cell_type": "code",
   "execution_count": 13,
   "id": "1add8932",
   "metadata": {},
   "outputs": [
    {
     "data": {
      "text/html": [
       "<div>\n",
       "<style scoped>\n",
       "    .dataframe tbody tr th:only-of-type {\n",
       "        vertical-align: middle;\n",
       "    }\n",
       "\n",
       "    .dataframe tbody tr th {\n",
       "        vertical-align: top;\n",
       "    }\n",
       "\n",
       "    .dataframe thead th {\n",
       "        text-align: right;\n",
       "    }\n",
       "</style>\n",
       "<table border=\"1\" class=\"dataframe\">\n",
       "  <thead>\n",
       "    <tr style=\"text-align: right;\">\n",
       "      <th></th>\n",
       "      <th>count</th>\n",
       "      <th>mean</th>\n",
       "      <th>std</th>\n",
       "      <th>min</th>\n",
       "      <th>25%</th>\n",
       "      <th>50%</th>\n",
       "      <th>75%</th>\n",
       "      <th>max</th>\n",
       "    </tr>\n",
       "  </thead>\n",
       "  <tbody>\n",
       "    <tr>\n",
       "      <th>carat</th>\n",
       "      <td>53794.0</td>\n",
       "      <td>0.797780</td>\n",
       "      <td>0.473390</td>\n",
       "      <td>0.2</td>\n",
       "      <td>0.40</td>\n",
       "      <td>0.70</td>\n",
       "      <td>1.04</td>\n",
       "      <td>5.01</td>\n",
       "    </tr>\n",
       "    <tr>\n",
       "      <th>depth</th>\n",
       "      <td>53794.0</td>\n",
       "      <td>61.748080</td>\n",
       "      <td>1.429909</td>\n",
       "      <td>43.0</td>\n",
       "      <td>61.00</td>\n",
       "      <td>61.80</td>\n",
       "      <td>62.50</td>\n",
       "      <td>79.00</td>\n",
       "    </tr>\n",
       "    <tr>\n",
       "      <th>table</th>\n",
       "      <td>53794.0</td>\n",
       "      <td>57.458109</td>\n",
       "      <td>2.233679</td>\n",
       "      <td>43.0</td>\n",
       "      <td>56.00</td>\n",
       "      <td>57.00</td>\n",
       "      <td>59.00</td>\n",
       "      <td>95.00</td>\n",
       "    </tr>\n",
       "    <tr>\n",
       "      <th>price</th>\n",
       "      <td>53794.0</td>\n",
       "      <td>3933.065082</td>\n",
       "      <td>3988.114460</td>\n",
       "      <td>326.0</td>\n",
       "      <td>951.00</td>\n",
       "      <td>2401.00</td>\n",
       "      <td>5326.75</td>\n",
       "      <td>18823.00</td>\n",
       "    </tr>\n",
       "    <tr>\n",
       "      <th>x</th>\n",
       "      <td>53794.0</td>\n",
       "      <td>5.731214</td>\n",
       "      <td>1.120695</td>\n",
       "      <td>0.0</td>\n",
       "      <td>4.71</td>\n",
       "      <td>5.70</td>\n",
       "      <td>6.54</td>\n",
       "      <td>10.74</td>\n",
       "    </tr>\n",
       "    <tr>\n",
       "      <th>y</th>\n",
       "      <td>53794.0</td>\n",
       "      <td>5.734653</td>\n",
       "      <td>1.141209</td>\n",
       "      <td>0.0</td>\n",
       "      <td>4.72</td>\n",
       "      <td>5.71</td>\n",
       "      <td>6.54</td>\n",
       "      <td>58.90</td>\n",
       "    </tr>\n",
       "    <tr>\n",
       "      <th>z</th>\n",
       "      <td>53794.0</td>\n",
       "      <td>3.538714</td>\n",
       "      <td>0.705037</td>\n",
       "      <td>0.0</td>\n",
       "      <td>2.91</td>\n",
       "      <td>3.53</td>\n",
       "      <td>4.03</td>\n",
       "      <td>31.80</td>\n",
       "    </tr>\n",
       "  </tbody>\n",
       "</table>\n",
       "</div>"
      ],
      "text/plain": [
       "         count         mean          std    min     25%      50%      75%  \\\n",
       "carat  53794.0     0.797780     0.473390    0.2    0.40     0.70     1.04   \n",
       "depth  53794.0    61.748080     1.429909   43.0   61.00    61.80    62.50   \n",
       "table  53794.0    57.458109     2.233679   43.0   56.00    57.00    59.00   \n",
       "price  53794.0  3933.065082  3988.114460  326.0  951.00  2401.00  5326.75   \n",
       "x      53794.0     5.731214     1.120695    0.0    4.71     5.70     6.54   \n",
       "y      53794.0     5.734653     1.141209    0.0    4.72     5.71     6.54   \n",
       "z      53794.0     3.538714     0.705037    0.0    2.91     3.53     4.03   \n",
       "\n",
       "            max  \n",
       "carat      5.01  \n",
       "depth     79.00  \n",
       "table     95.00  \n",
       "price  18823.00  \n",
       "x         10.74  \n",
       "y         58.90  \n",
       "z         31.80  "
      ]
     },
     "execution_count": 13,
     "metadata": {},
     "output_type": "execute_result"
    }
   ],
   "source": [
    "# Printing Dataset Statistical Information\n",
    "\n",
    "df.describe().T"
   ]
  },
  {
   "cell_type": "code",
   "execution_count": 14,
   "id": "15f932ab",
   "metadata": {},
   "outputs": [
    {
     "data": {
      "text/plain": [
       "Index(['carat', 'cut', 'color', 'clarity', 'depth', 'table', 'price', 'x', 'y',\n",
       "       'z'],\n",
       "      dtype='object')"
      ]
     },
     "execution_count": 14,
     "metadata": {},
     "output_type": "execute_result"
    }
   ],
   "source": [
    "# Printing Columns Name \n",
    "\n",
    "df.columns"
   ]
  },
  {
   "cell_type": "markdown",
   "id": "5db212b0",
   "metadata": {},
   "source": [
    "## Data Preprocessing "
   ]
  },
  {
   "cell_type": "code",
   "execution_count": 15,
   "id": "ec072be2",
   "metadata": {},
   "outputs": [
    {
     "data": {
      "text/plain": [
       "array([0.23, 0.21, 0.29, 0.31, 0.24, 0.26, 0.22, 0.3 , 0.2 , 0.32, 0.33,\n",
       "       0.25, 0.35, 0.42, 0.28, 0.38, 0.7 , 0.86, 0.71, 0.78, 0.96, 0.73,\n",
       "       0.8 , 0.75, 0.74, 0.81, 0.59, 0.9 , 0.91, 0.61, 0.77, 0.63, 0.76,\n",
       "       0.64, 0.72, 0.79, 0.58, 1.17, 0.6 , 0.83, 0.54, 0.98, 0.52, 1.01,\n",
       "       0.53, 0.84, 0.51, 1.05, 0.55, 0.87, 1.  , 0.57, 0.82, 1.04, 0.93,\n",
       "       1.2 , 0.99, 0.34, 0.43, 0.36, 0.95, 0.89, 1.02, 0.97, 0.56, 0.85,\n",
       "       0.92, 1.27, 0.66, 1.12, 0.68, 1.03, 0.62, 1.22, 1.08, 0.88, 0.5 ,\n",
       "       1.19, 0.39, 0.65, 1.24, 1.5 , 0.27, 0.41, 1.13, 1.06, 0.69, 0.4 ,\n",
       "       1.14, 0.94, 1.29, 1.52, 1.16, 1.21, 1.23, 1.09, 0.67, 1.11, 1.1 ,\n",
       "       1.18, 1.15, 1.25, 1.07, 1.28, 1.51, 0.37, 1.31, 1.26, 1.39, 1.44,\n",
       "       1.35, 1.3 , 1.32, 1.41, 1.36, 1.45, 1.34, 1.58, 1.54, 1.38, 1.33,\n",
       "       1.74, 1.64, 1.47, 1.4 , 1.55, 1.95, 2.  , 1.37, 1.83, 1.62, 1.57,\n",
       "       1.69, 2.06, 1.72, 1.66, 2.14, 1.49, 1.46, 2.15, 1.96, 2.22, 1.7 ,\n",
       "       1.53, 1.85, 2.01, 2.27, 1.68, 1.56, 1.81, 1.65, 1.82, 2.03, 1.73,\n",
       "       1.59, 1.42, 1.43, 2.08, 1.48, 1.6 , 2.49, 1.71, 2.02, 2.07, 3.  ,\n",
       "       2.21, 2.1 , 1.91, 2.25, 2.17, 2.32, 2.72, 1.61, 2.23, 2.11, 2.05,\n",
       "       1.63, 2.3 , 2.31, 1.75, 2.04, 2.12, 1.77, 2.5 , 1.8 , 1.67, 1.84,\n",
       "       2.2 , 3.01, 1.88, 2.33, 2.68, 2.34, 1.9 , 2.16, 2.74, 1.78, 1.76,\n",
       "       2.28, 1.79, 1.94, 2.43, 1.86, 3.11, 1.87, 2.09, 1.89, 2.52, 2.19,\n",
       "       2.18, 2.77, 2.63, 3.05, 2.46, 3.02, 2.38, 2.24, 2.26, 2.36, 1.99,\n",
       "       2.29, 3.65, 2.45, 2.4 , 2.54, 3.24, 2.13, 2.58, 3.22, 3.5 , 2.48,\n",
       "       1.98, 2.44, 2.75, 1.93, 2.41, 2.61, 2.35, 2.51, 2.7 , 2.55, 1.97,\n",
       "       2.53, 2.37, 2.47, 2.8 , 4.01, 2.56, 3.04, 1.92, 2.39, 3.4 , 4.  ,\n",
       "       3.67, 2.42, 2.66, 2.65, 2.59, 2.6 , 2.57, 2.71, 4.13, 2.64, 5.01,\n",
       "       4.5 , 2.67, 3.51, 0.44, 0.45, 0.47, 0.46, 0.48, 0.49])"
      ]
     },
     "execution_count": 15,
     "metadata": {},
     "output_type": "execute_result"
    }
   ],
   "source": [
    "df.carat.unique()"
   ]
  },
  {
   "cell_type": "code",
   "execution_count": 16,
   "id": "8175a18e",
   "metadata": {},
   "outputs": [
    {
     "data": {
      "image/png": "[encoded data removed]",
      "text/plain": [
       "<Figure size 640x480 with 1 Axes>"
      ]
     },
     "metadata": {},
     "output_type": "display_data"
    }
   ],
   "source": [
    "df.carat.plot(kind='kde')\n",
    "plt.show()"
   ]
  },
  {
   "cell_type": "code",
   "execution_count": 17,
   "id": "8309a2ff",
   "metadata": {},
   "outputs": [
    {
     "data": {
      "image/png": "[encoded data removed]",
      "text/plain": [
       "<Figure size 640x480 with 1 Axes>"
      ]
     },
     "metadata": {},
     "output_type": "display_data"
    }
   ],
   "source": [
    "df.carat.plot(kind='box')\n",
    "plt.show()"
   ]
  },
  {
   "cell_type": "markdown",
   "id": "fe4f9154",
   "metadata": {},
   "source": [
    "**cut column**"
   ]
  },
  {
   "cell_type": "code",
   "execution_count": 18,
   "id": "437ba6b8",
   "metadata": {},
   "outputs": [
    {
     "data": {
      "text/plain": [
       "Ideal        21488\n",
       "Premium      13748\n",
       "Very Good    12069\n",
       "Good          4891\n",
       "Fair          1598\n",
       "Name: cut, dtype: int64"
      ]
     },
     "execution_count": 18,
     "metadata": {},
     "output_type": "execute_result"
    }
   ],
   "source": [
    "df.cut.value_counts()"
   ]
  },
  {
   "cell_type": "code",
   "execution_count": 19,
   "id": "8070f028",
   "metadata": {},
   "outputs": [
    {
     "data": {
      "image/png": "[encoded data removed]",
      "text/plain": [
       "<Figure size 640x480 with 1 Axes>"
      ]
     },
     "metadata": {},
     "output_type": "display_data"
    }
   ],
   "source": [
    "sns.countplot(x=df.cut)\n",
    "plt.show()"
   ]
  },
  {
   "cell_type": "code",
   "execution_count": 20,
   "id": "bec405ac",
   "metadata": {},
   "outputs": [
    {
     "data": {
      "image/png": "[encoded data removed]",
      "text/plain": [
       "<Figure size 640x480 with 1 Axes>"
      ]
     },
     "metadata": {},
     "output_type": "display_data"
    }
   ],
   "source": [
    "df.cut.value_counts().plot(kind='pie', autopct=\"%1.1f%%\")\n",
    "plt.show()"
   ]
  },
  {
   "cell_type": "markdown",
   "id": "bca271af",
   "metadata": {},
   "source": [
    "**color column**"
   ]
  },
  {
   "cell_type": "code",
   "execution_count": 21,
   "id": "547c7051",
   "metadata": {},
   "outputs": [
    {
     "data": {
      "text/plain": [
       "G    11262\n",
       "E     9776\n",
       "F     9520\n",
       "H     8272\n",
       "D     6755\n",
       "I     5407\n",
       "J     2802\n",
       "Name: color, dtype: int64"
      ]
     },
     "execution_count": 21,
     "metadata": {},
     "output_type": "execute_result"
    }
   ],
   "source": [
    "df.color.value_counts()"
   ]
  },
  {
   "cell_type": "code",
   "execution_count": 22,
   "id": "902d537b",
   "metadata": {},
   "outputs": [
    {
     "data": {
      "image/png": "[encoded data removed]",
      "text/plain": [
       "<Figure size 640x480 with 1 Axes>"
      ]
     },
     "metadata": {},
     "output_type": "display_data"
    }
   ],
   "source": [
    "sns.countplot(x=df.color)\n",
    "plt.show()"
   ]
  },
  {
   "cell_type": "code",
   "execution_count": 23,
   "id": "a94981ea",
   "metadata": {},
   "outputs": [
    {
     "data": {
      "image/png": "[encoded data removed]",
      "text/plain": [
       "<Figure size 640x480 with 1 Axes>"
      ]
     },
     "metadata": {},
     "output_type": "display_data"
    }
   ],
   "source": [
    "df.color.value_counts().plot(kind='pie', autopct=\"%1.1f%%\")\n",
    "plt.show()"
   ]
  },
  {
   "cell_type": "markdown",
   "id": "5e5b2b41",
   "metadata": {},
   "source": [
    "**clarity**"
   ]
  },
  {
   "cell_type": "code",
   "execution_count": 24,
   "id": "8aead07f",
   "metadata": {},
   "outputs": [
    {
     "data": {
      "text/plain": [
       "SI1     13032\n",
       "VS2     12229\n",
       "SI2      9150\n",
       "VS1      8156\n",
       "VVS2     5056\n",
       "VVS1     3647\n",
       "IF       1784\n",
       "I1        740\n",
       "Name: clarity, dtype: int64"
      ]
     },
     "execution_count": 24,
     "metadata": {},
     "output_type": "execute_result"
    }
   ],
   "source": [
    "df.clarity.value_counts()"
   ]
  },
  {
   "cell_type": "code",
   "execution_count": 25,
   "id": "d700b1f2",
   "metadata": {},
   "outputs": [
    {
     "data": {
      "image/png": "[encoded data removed]",
      "text/plain": [
       "<Figure size 900x600 with 1 Axes>"
      ]
     },
     "metadata": {},
     "output_type": "display_data"
    }
   ],
   "source": [
    "df.clarity.value_counts().plot(kind='pie', autopct=\"%1.1f%%\",figsize=(9,6))\n",
    "plt.show()"
   ]
  },
  {
   "cell_type": "code",
   "execution_count": 26,
   "id": "767edafe",
   "metadata": {},
   "outputs": [
    {
     "data": {
      "image/png": "[encoded data removed]",
      "text/plain": [
       "<Figure size 640x480 with 1 Axes>"
      ]
     },
     "metadata": {},
     "output_type": "display_data"
    }
   ],
   "source": [
    "sns.countplot(x=df.clarity)\n",
    "plt.show()"
   ]
  },
  {
   "cell_type": "markdown",
   "id": "018cd01e",
   "metadata": {},
   "source": [
    "**depth column**"
   ]
  },
  {
   "cell_type": "code",
   "execution_count": 27,
   "id": "4e3dcaf5",
   "metadata": {},
   "outputs": [
    {
     "data": {
      "text/plain": [
       "array([61.5, 59.8, 56.9, 62.4, 63.3, 62.8, 62.3, 61.9, 65.1, 59.4, 64. ,\n",
       "       60.4, 62.2, 60.2, 60.9, 62. , 63.4, 63.8, 62.7, 61. , 58.1, 62.5,\n",
       "       60.5, 60. , 60.7, 59.5, 58.2, 64.1, 60.8, 61.8, 61.2, 61.1, 65.2,\n",
       "       58.4, 63.1, 61.6, 59.3, 62.6, 63. , 63.2, 62.1, 61.4, 62.9, 63.7,\n",
       "       59.2, 59.9, 57.9, 55.1, 57.5, 66.3, 61.7, 58.8, 64.5, 65.3, 59.6,\n",
       "       64.4, 65.7, 63.6, 61.3, 60.1, 60.3, 58. , 64.6, 59.7, 57.8, 67.9,\n",
       "       60.6, 57.2, 64.2, 65.8, 67.4, 59. , 63.5, 67.3, 58.7, 66.4, 68.1,\n",
       "       63.9, 55. , 58.6, 64.3, 58.5, 65. , 56. , 58.3, 53.1, 64.9, 59.1,\n",
       "       58.9, 66.7, 57.7, 65.4, 53.3, 53. , 67.8, 66.1, 55.8, 67.6, 68.2,\n",
       "       65.5, 67.7, 69.5, 56.6, 56.3, 66.9, 66. , 67. , 57.6, 67.1, 65.6,\n",
       "       64.8, 69.3, 66.2, 55.4, 66.8, 64.7, 66.6, 55.9, 57.3, 57.4, 68.3,\n",
       "       68.5, 56.2, 65.9, 56.5, 56.1, 66.5, 68.4, 69.7, 57.1, 68.7, 56.7,\n",
       "       68.6, 71.6, 43. , 68.8, 67.5, 69. , 55.2, 68.9, 69.6, 57. , 56.4,\n",
       "       56.8, 44. , 67.2, 70.1, 71.3, 70.6, 69.8, 71.8, 53.8, 53.2, 70. ,\n",
       "       69.4, 68. , 70.2, 50.8, 55.6, 70.5, 71. , 69.1, 55.3, 54.2, 51. ,\n",
       "       70.8, 54.6, 54. , 54.4, 52.3, 55.5, 78.2, 71.2, 52.7, 54.3, 69.2,\n",
       "       73.6, 52.2, 69.9, 53.4, 72.2, 79. , 72.9, 54.7])"
      ]
     },
     "execution_count": 27,
     "metadata": {},
     "output_type": "execute_result"
    }
   ],
   "source": [
    "df.depth.unique()"
   ]
  },
  {
   "cell_type": "code",
   "execution_count": 28,
   "id": "690a49e7",
   "metadata": {},
   "outputs": [
    {
     "data": {
      "image/png": "[encoded data removed]",
      "text/plain": [
       "<Figure size 640x480 with 1 Axes>"
      ]
     },
     "metadata": {},
     "output_type": "display_data"
    }
   ],
   "source": [
    "df.depth.plot(kind='kde')\n",
    "plt.show()"
   ]
  },
  {
   "cell_type": "code",
   "execution_count": 29,
   "id": "405929d2",
   "metadata": {},
   "outputs": [
    {
     "data": {
      "image/png": "[encoded data removed]",
      "text/plain": [
       "<Figure size 640x480 with 1 Axes>"
      ]
     },
     "metadata": {},
     "output_type": "display_data"
    }
   ],
   "source": [
    "df.depth.plot(kind='box')\n",
    "plt.show()"
   ]
  },
  {
   "cell_type": "markdown",
   "id": "92dbde3d",
   "metadata": {},
   "source": [
    "**table column**"
   ]
  },
  {
   "cell_type": "code",
   "execution_count": 30,
   "id": "1aacdb6e",
   "metadata": {},
   "outputs": [
    {
     "data": {
      "text/plain": [
       "array([55. , 61. , 65. , 58. , 57. , 56. , 54. , 62. , 59. , 63. , 60. ,\n",
       "       55.3, 69. , 53. , 64. , 56.4, 60.5, 67. , 52. , 55.8, 66. , 70. ,\n",
       "       68. , 54.4, 57.1, 53.6, 54.8, 54.2, 54.9, 56.7, 53.9, 57.8, 54.1,\n",
       "       55.1, 51. , 58.1, 56.9, 56.5, 53.7, 60.7, 56.2, 56.6, 56.1, 56.3,\n",
       "       57.2, 57.5, 60.9, 59.8, 62.3, 60.1, 55.9, 50.1, 62.2, 54.5, 55.7,\n",
       "       53.4, 54.7, 58.8, 59.4, 62.5, 54.3, 60.6, 55.2, 58.6, 49. , 50. ,\n",
       "       54.6, 62.6, 57.7, 56.8, 57.9, 60.3, 55.6, 59.5, 57.4, 62.4, 60.4,\n",
       "       53.3, 60.2, 60.8, 58.5, 57.6, 43. , 59.9, 63.5, 57.3, 61.4, 58.3,\n",
       "       55.4, 58.2, 53.5, 59.7, 55.5, 58.7, 53.8, 59.1, 53.2, 59.3, 61.1,\n",
       "       51.6, 95. , 61.2, 59.2, 58.4, 53.1, 52.8, 44. , 61.3, 61.9, 61.8,\n",
       "       59.6, 61.5, 58.9, 64.3, 62.8, 71. , 52.4, 63.3, 61.7, 64.2, 73. ,\n",
       "       65.4, 63.4, 62.1, 79. , 76. , 61.6])"
      ]
     },
     "execution_count": 30,
     "metadata": {},
     "output_type": "execute_result"
    }
   ],
   "source": [
    "df.table.unique()"
   ]
  },
  {
   "cell_type": "code",
   "execution_count": 31,
   "id": "847671e8",
   "metadata": {},
   "outputs": [
    {
     "data": {
      "image/png": "[encoded data removed]",
      "text/plain": [
       "<Figure size 640x480 with 1 Axes>"
      ]
     },
     "metadata": {},
     "output_type": "display_data"
    }
   ],
   "source": [
    "df.table.plot(kind='kde')\n",
    "plt.show()"
   ]
  },
  {
   "cell_type": "code",
   "execution_count": 32,
   "id": "b16d0ed1",
   "metadata": {},
   "outputs": [
    {
     "data": {
      "image/png": "[encoded data removed]",
      "text/plain": [
       "<Figure size 640x480 with 1 Axes>"
      ]
     },
     "metadata": {},
     "output_type": "display_data"
    }
   ],
   "source": [
    "df.table.plot(kind='box')\n",
    "plt.show()"
   ]
  },
  {
   "cell_type": "markdown",
   "id": "8bbcba5b",
   "metadata": {},
   "source": [
    "**x column**"
   ]
  },
  {
   "cell_type": "code",
   "execution_count": 33,
   "id": "a7a26a66",
   "metadata": {},
   "outputs": [
    {
     "data": {
      "text/plain": [
       "array([ 3.95,  3.89,  4.05,  4.2 ,  4.34,  3.94,  4.07,  3.87,  4.  ,\n",
       "        4.25,  3.93,  3.88,  4.35,  3.79,  4.38,  4.31,  4.23,  4.21,\n",
       "        4.26,  3.85,  4.39,  4.44,  3.97,  4.28,  3.96,  4.04,  4.01,\n",
       "        3.92,  4.06,  3.83,  4.29,  4.13,  4.49,  3.99,  4.19,  4.24,\n",
       "        4.36,  4.33,  4.02,  4.45,  3.91,  4.3 ,  4.43,  4.54,  4.78,\n",
       "        4.15,  4.08,  4.03,  4.65,  4.22,  5.7 ,  6.45,  5.68,  5.81,\n",
       "        5.85,  5.71,  6.27,  5.77,  5.97,  5.8 ,  6.  ,  5.94,  5.87,\n",
       "        5.9 ,  6.14,  5.38,  5.96,  6.16,  5.73,  5.98,  5.72,  6.01,\n",
       "        5.64,  5.57,  5.63,  5.65,  6.09,  5.56,  6.11,  6.03,  5.89,\n",
       "        5.69,  5.62,  5.88,  5.52,  5.74,  5.53,  5.78,  5.83,  5.66,\n",
       "        5.82,  5.79,  5.92,  5.39,  5.33,  6.83,  5.41,  5.25,  5.24,\n",
       "        5.67,  5.61,  5.76,  6.05,  5.6 ,  5.19,  5.84,  6.39,  5.34,\n",
       "        5.14,  5.11,  5.54,  6.07,  6.29,  6.31,  6.49,  5.28,  5.48,\n",
       "        5.55,  6.41,  6.02,  5.91,  6.17,  6.61,  5.12,  6.19,  5.43,\n",
       "        5.99,  5.95,  6.37,  5.93,  6.46,  5.22,  5.75,  6.21,  6.15,\n",
       "        6.73,  5.49,  4.37,  4.47,  4.41,  4.27,  4.85,  4.32,  4.48,\n",
       "        4.5 ,  4.56,  4.94,  4.09,  6.72,  5.15,  6.3 ,  5.86,  5.23,\n",
       "        6.08,  6.62,  6.26,  6.55,  6.04,  6.2 ,  6.43,  6.36,  6.34,\n",
       "        5.2 ,  5.37,  6.06,  5.51,  6.9 ,  6.24,  5.36,  5.16,  5.45,\n",
       "        5.47,  6.12,  6.6 ,  6.35,  7.12,  6.25,  6.1 ,  6.75,  6.22,\n",
       "        6.78,  6.38,  6.82,  6.84,  5.44,  4.57,  4.6 ,  4.52,  4.42,\n",
       "        4.46,  6.93,  6.4 ,  5.27,  5.21,  6.47,  6.13,  5.59,  6.44,\n",
       "        6.53,  6.5 ,  6.32,  5.08,  5.09,  5.18,  5.3 ,  6.68,  6.51,\n",
       "        6.23,  5.42,  4.66,  4.4 ,  6.18,  5.58,  5.03,  6.85,  6.67,\n",
       "        6.28,  6.57,  7.26,  4.18,  4.77,  6.52,  6.42,  5.5 ,  6.54,\n",
       "        6.92,  5.46,  6.77,  6.63,  5.35,  5.17,  4.64,  6.81,  6.33,\n",
       "        5.4 ,  7.53,  6.48,  6.58,  7.01,  6.79,  6.59,  6.66,  6.64,\n",
       "        6.99,  4.67,  7.56,  6.65,  6.69,  5.13,  6.8 ,  4.58,  4.55,\n",
       "        4.16,  4.12,  4.51,  6.71,  6.95,  4.14,  4.53,  6.89,  6.86,\n",
       "        6.91,  6.76,  6.96,  4.99,  4.61,  4.69,  4.71,  6.56,  4.1 ,\n",
       "        4.7 ,  7.4 ,  5.29,  5.26,  5.31,  5.32,  7.29,  7.18,  6.87,\n",
       "        6.74,  7.43,  6.7 ,  7.37,  7.  ,  4.11,  4.63,  6.94,  7.22,\n",
       "        7.06,  7.05,  7.09,  7.17,  7.07,  4.73,  4.75,  4.74,  7.02,\n",
       "        7.16,  7.11,  6.88,  7.1 ,  4.98,  7.15,  6.98,  7.31,  7.38,\n",
       "        7.39,  7.33,  4.17,  4.59,  7.28,  7.08,  6.97,  4.62,  4.83,\n",
       "        4.68,  7.34,  7.21,  4.89,  7.03,  7.55,  4.79,  7.25,  7.45,\n",
       "        7.19,  7.04,  7.62,  7.14,  3.98,  4.8 ,  7.44,  0.  ,  7.13,\n",
       "        7.32,  7.2 ,  7.48,  8.1 ,  8.11,  7.23,  7.27,  7.42,  7.7 ,\n",
       "        4.76,  4.72,  7.3 ,  7.24,  7.79,  7.54,  7.63,  7.46,  7.74,\n",
       "        4.84,  8.01,  7.59,  7.36,  4.87,  8.04,  7.78,  7.8 ,  7.71,\n",
       "        8.48,  7.61,  8.05,  7.6 ,  7.5 ,  7.52,  7.91,  7.81,  8.03,\n",
       "        8.23,  7.41,  7.49,  7.68,  7.57,  7.35,  8.26,  7.84,  7.58,\n",
       "        8.  ,  8.19,  7.77,  7.87,  7.47,  8.25,  7.76,  9.23,  7.97,\n",
       "        8.31,  8.3 ,  7.82,  4.88,  7.93,  7.73,  7.89,  7.66,  7.75,\n",
       "        8.75,  7.88,  7.99,  8.46,  7.51,  7.69,  7.64,  8.24,  8.15,\n",
       "        8.71,  7.83,  8.39,  7.72,  8.13,  4.82,  7.65,  9.1 ,  8.93,\n",
       "        8.16,  7.94,  7.85,  8.64,  7.67,  4.91,  4.81,  8.14,  7.86,\n",
       "        9.11,  8.45,  7.9 ,  8.47,  8.07,  8.55,  8.76,  7.96,  8.28,\n",
       "        8.4 ,  8.37,  8.52,  8.43,  8.09,  7.98,  8.81,  8.54,  8.02,\n",
       "        8.08,  8.18,  4.92,  8.12,  9.15,  8.17,  9.24,  8.33,  8.34,\n",
       "        7.92,  8.57,  7.95,  8.06,  9.26,  8.82,  8.27,  8.66,  8.22,\n",
       "        9.54,  9.38,  8.36,  8.41,  8.53,  8.42,  8.44,  8.21,  8.51,\n",
       "        8.68,  8.49,  8.29,  8.2 ,  9.08,  9.17,  8.6 ,  9.53,  8.7 ,\n",
       "        8.32,  8.65,  9.44,  8.38,  8.61,  8.58,  9.49,  9.65,  8.83,\n",
       "        8.5 ,  8.79,  8.63,  8.74,  9.04,  9.42,  8.35,  8.56,  8.8 ,\n",
       "        8.87,  8.84,  8.88,  8.59,  8.69,  9.32,  9.03,  8.72, 10.14,\n",
       "       10.02,  8.62,  8.85,  9.14,  8.67,  8.99, 10.01,  8.78,  9.25,\n",
       "        9.86,  8.77,  8.73,  9.3 ,  9.13,  9.05, 10.  ,  8.9 ,  8.97,\n",
       "       10.74,  9.36,  9.06,  8.89, 10.23,  9.51,  9.66,  9.35,  9.41,\n",
       "        4.86,  4.9 ,  3.9 ,  3.86,  4.93,  4.96,  5.04,  5.  ,  4.95,\n",
       "        5.01,  5.05,  3.81,  3.84,  3.73,  3.74,  3.76,  3.77,  4.97,\n",
       "        5.06,  5.02,  5.1 ,  5.07,  3.82])"
      ]
     },
     "execution_count": 33,
     "metadata": {},
     "output_type": "execute_result"
    }
   ],
   "source": [
    "df.x.unique()"
   ]
  },
  {
   "cell_type": "code",
   "execution_count": 34,
   "id": "1ba745e1",
   "metadata": {},
   "outputs": [
    {
     "data": {
      "image/png": "[encoded data removed]",
      "text/plain": [
       "<Figure size 640x480 with 1 Axes>"
      ]
     },
     "metadata": {},
     "output_type": "display_data"
    }
   ],
   "source": [
    "df.x.plot(kind='kde')\n",
    "plt.show()"
   ]
  },
  {
   "cell_type": "code",
   "execution_count": 35,
   "id": "5a206d4a",
   "metadata": {},
   "outputs": [
    {
     "data": {
      "image/png": "[encoded data removed]",
      "text/plain": [
       "<Figure size 640x480 with 1 Axes>"
      ]
     },
     "metadata": {},
     "output_type": "display_data"
    }
   ],
   "source": [
    "df.x.plot(kind='box')\n",
    "plt.show()"
   ]
  },
  {
   "cell_type": "markdown",
   "id": "cf188005",
   "metadata": {},
   "source": [
    "**y column**"
   ]
  },
  {
   "cell_type": "code",
   "execution_count": 36,
   "id": "aa4d5344",
   "metadata": {},
   "outputs": [
    {
     "data": {
      "text/plain": [
       "array([ 3.98,  3.84,  4.07,  4.23,  4.35,  3.96,  4.11,  3.78,  4.05,\n",
       "        4.28,  3.9 ,  4.37,  3.75,  4.42,  4.34,  4.29,  4.26,  4.27,\n",
       "        4.3 ,  3.92,  4.43,  4.47,  4.01,  3.94,  3.97,  3.99,  4.03,\n",
       "        4.06,  4.08,  3.85,  4.31,  4.16,  4.51,  4.5 ,  4.55,  4.02,\n",
       "        4.24,  4.38,  3.95,  4.48,  3.89,  3.88,  4.33,  4.32,  4.59,\n",
       "        4.84,  4.22,  4.  ,  4.25,  4.13,  4.09,  4.04,  4.12,  4.67,\n",
       "        5.72,  6.33,  5.67,  5.73,  5.85,  5.9 ,  5.76,  5.95,  5.78,\n",
       "        5.93,  5.75,  5.96,  5.79,  5.87,  5.8 ,  5.81,  6.11,  5.43,\n",
       "        6.  ,  5.84,  6.12,  5.82,  5.74,  5.94,  6.07,  5.69,  5.83,\n",
       "        5.61,  5.53,  5.58,  5.59,  5.97,  6.09,  5.99,  5.86,  5.68,\n",
       "        5.65,  5.55,  5.77,  5.91,  5.56,  5.89,  5.92,  6.03,  5.44,\n",
       "        5.37,  5.88,  6.9 ,  5.62,  5.27,  5.26,  5.7 ,  5.64,  5.63,\n",
       "        5.71,  5.51,  5.22,  6.36,  5.54,  5.66,  6.2 ,  5.18,  5.15,\n",
       "        6.1 ,  6.21,  6.22,  6.45,  6.01,  5.3 ,  5.41,  5.52,  6.27,\n",
       "        6.05,  6.06,  6.13,  6.55,  5.35,  5.16,  6.25,  6.02,  5.46,\n",
       "        6.23,  6.08,  5.45,  6.41,  6.34,  5.25,  6.15,  6.19,  6.66,\n",
       "        4.36,  4.2 ,  4.79,  4.57,  4.52,  4.53,  4.58,  5.  ,  6.67,\n",
       "        5.11,  6.29,  6.04,  6.53,  6.65,  6.5 ,  6.16,  5.6 ,  6.39,\n",
       "        5.21,  5.4 ,  5.98,  6.83,  6.37,  6.31,  5.38,  6.43,  5.29,\n",
       "        5.19,  6.18,  5.34,  5.48,  5.23,  6.14,  5.49,  5.57,  6.46,\n",
       "        7.05,  6.26,  6.75,  6.74,  6.77,  4.66,  4.46,  4.56,  4.41,\n",
       "        4.4 ,  4.39,  5.2 ,  6.88,  5.31,  6.3 ,  6.48,  5.47,  5.13,\n",
       "        6.49,  6.47,  6.32,  5.12,  5.24,  6.35,  6.61,  4.7 ,  6.24,\n",
       "        6.28,  5.08,  6.44,  6.79,  6.57,  6.92,  6.6 ,  5.28,  5.42,\n",
       "        5.5 ,  7.09,  4.45,  4.62,  4.8 ,  6.42,  6.85,  6.54,  6.7 ,\n",
       "        6.51,  6.59,  6.38,  6.69,  5.06,  4.69,  4.44,  4.49,  6.71,\n",
       "        6.4 ,  6.17,  5.39,  7.42,  6.52,  6.95,  6.56,  6.62,  6.87,\n",
       "        6.81,  7.39,  6.58,  6.73,  5.17,  4.65,  4.19,  4.61,  6.64,\n",
       "        6.91,  6.8 ,  4.15,  4.71,  4.21,  4.68,  6.84,  6.86,  4.96,\n",
       "        5.04,  5.09,  4.64,  4.74,  4.73,  4.6 ,  4.75,  7.28,  5.32,\n",
       "        6.82,  6.63,  7.17,  7.13,  4.1 ,  4.63,  7.35,  6.68,  7.26,\n",
       "        6.78,  4.17,  4.9 ,  6.89,  7.01,  7.1 ,  6.72,  7.  ,  5.36,\n",
       "        4.76,  4.78,  6.96,  7.15,  7.19,  6.93,  4.54,  7.34,  6.76,\n",
       "        7.18,  4.14,  7.12,  7.04,  7.22,  7.2 ,  6.94,  7.16,  7.21,\n",
       "        4.18,  7.32,  7.06,  6.99,  4.72,  7.03,  7.14,  6.97,  7.29,\n",
       "        7.51,  4.81,  6.98,  7.33,  7.23,  7.25,  7.02,  7.59,  7.11,\n",
       "        4.82,  7.07,  7.36,  7.08,  7.4 ,  7.41,  8.05,  8.06,  0.  ,\n",
       "        4.83,  7.44,  7.79,  8.07,  7.24,  7.7 ,  7.45,  7.56,  4.88,\n",
       "        7.27,  7.95,  4.87,  7.31,  4.77,  4.89,  8.02,  7.37,  7.49,\n",
       "        7.38,  7.74,  7.75,  7.64,  8.39,  7.55,  8.  ,  7.48,  7.5 ,\n",
       "        7.54,  7.47,  7.52,  7.53,  7.43,  7.85,  7.6 ,  7.3 ,  7.99,\n",
       "        7.57,  8.18,  7.8 ,  7.92,  7.72,  8.2 ,  7.65,  7.63,  7.58,\n",
       "        7.73,  9.1 ,  8.27,  8.19,  7.76,  8.01,  7.66,  7.46,  7.97,\n",
       "        4.94,  7.91,  7.86,  7.61,  8.69,  7.82,  7.9 ,  8.43,  7.62,\n",
       "        7.71,  7.83,  8.3 ,  8.12,  7.94,  7.98,  8.56,  7.78,  8.22,\n",
       "        8.28,  7.67,  4.85,  8.44,  7.87,  8.97,  8.84,  8.11,  4.98,\n",
       "        7.81,  8.09,  7.68,  8.25,  9.07,  8.38,  8.67,  7.84,  4.86,\n",
       "        8.26,  8.66,  7.69,  8.32,  8.46,  8.35,  7.89,  8.04,  8.21,\n",
       "        7.96,  8.03,  8.77,  8.49,  8.17,  8.13,  8.33,  7.77,  9.02,\n",
       "        8.08,  9.13,  7.88,  8.31,  8.53,  8.5 ,  8.14,  8.83,  8.81,\n",
       "        9.25,  8.15,  8.76,  8.23,  7.93,  8.16,  8.63,  9.38,  9.31,\n",
       "        8.34,  8.24,  8.51,  8.47,  8.1 ,  8.57,  8.45,  3.86,  8.96,\n",
       "        9.48,  8.36,  8.58,  8.41,  8.61,  8.64,  4.97, 58.9 ,  8.68,\n",
       "        9.4 ,  8.37,  8.48,  8.29,  8.4 ,  9.42,  9.59,  8.78,  8.54,\n",
       "        8.7 ,  8.98,  9.26,  8.65,  8.52,  8.6 ,  8.42,  9.37,  8.74,\n",
       "        8.59,  8.55,  9.01,  9.19, 10.1 ,  9.94,  8.71,  9.34,  9.2 ,\n",
       "        9.81,  8.73,  8.82,  8.87,  8.75,  8.79,  8.93,  8.88,  9.14,\n",
       "        9.03,  8.9 ,  8.94,  9.85,  8.62, 10.54,  8.89, 10.16,  9.46,\n",
       "        9.63,  9.22,  9.32,  8.85,  4.91,  4.93,  4.92,  3.93,  4.95,\n",
       "        5.01,  4.99,  5.05,  3.77,  3.8 ,  3.71,  3.73,  3.68,  3.72,\n",
       "        3.91,  5.07,  5.02,  5.03,  3.87,  5.14,  5.1 ,  5.33,  3.83,\n",
       "        3.81,  3.82, 31.8 ])"
      ]
     },
     "execution_count": 36,
     "metadata": {},
     "output_type": "execute_result"
    }
   ],
   "source": [
    "df.y.unique()"
   ]
  },
  {
   "cell_type": "code",
   "execution_count": 37,
   "id": "5363179a",
   "metadata": {},
   "outputs": [
    {
     "data": {
      "image/png": "[encoded data removed]",
      "text/plain": [
       "<Figure size 640x480 with 1 Axes>"
      ]
     },
     "metadata": {},
     "output_type": "display_data"
    }
   ],
   "source": [
    "df.y.plot(kind='kde')\n",
    "plt.show()"
   ]
  },
  {
   "cell_type": "code",
   "execution_count": 38,
   "id": "12113a0e",
   "metadata": {},
   "outputs": [
    {
     "data": {
      "image/png": "[encoded data removed]",
      "text/plain": [
       "<Figure size 640x480 with 1 Axes>"
      ]
     },
     "metadata": {},
     "output_type": "display_data"
    }
   ],
   "source": [
    "df.y.plot(kind='box')\n",
    "plt.show()"
   ]
  },
  {
   "cell_type": "markdown",
   "id": "bd6f08fd",
   "metadata": {},
   "source": [
    "**z column**"
   ]
  },
  {
   "cell_type": "code",
   "execution_count": 39,
   "id": "57051bcb",
   "metadata": {},
   "outputs": [
    {
     "data": {
      "text/plain": [
       "array([ 2.43,  2.31,  2.63,  2.75,  2.48,  2.47,  2.53,  2.49,  2.39,\n",
       "        2.73,  2.46,  2.33,  2.71,  2.27,  2.68,  2.7 ,  2.66,  2.41,\n",
       "        2.62,  2.59,  2.67,  2.4 ,  2.42,  2.44,  2.37,  2.52,  2.78,\n",
       "        2.76,  2.61,  2.65,  2.79,  2.54,  2.64,  2.45,  2.72,  2.69,\n",
       "        2.96,  2.58,  2.51,  2.56,  2.55,  2.87,  3.57,  3.52,  3.5 ,\n",
       "        3.56,  3.72,  3.38,  3.4 ,  4.07,  3.66,  3.65,  3.58,  3.59,\n",
       "        3.63,  3.69,  3.61,  3.6 ,  3.35,  3.67,  3.62,  3.87,  3.68,\n",
       "        3.49,  3.47,  3.46,  3.7 ,  3.32,  3.93,  3.95,  3.64,  3.53,\n",
       "        3.37,  3.43,  3.51,  3.54,  3.48,  3.55,  3.33,  3.3 ,  4.13,\n",
       "        3.79,  3.24,  3.23,  4.08,  3.19,  3.94,  3.08,  3.31,  3.21,\n",
       "        3.75,  3.18,  3.41,  4.03,  4.09,  3.22,  4.18,  3.76,  3.83,\n",
       "        3.17,  3.44,  3.74,  3.8 ,  3.39,  3.88,  4.  ,  3.98,  3.85,\n",
       "        3.96,  3.16,  3.78,  3.84,  4.33,  4.01,  3.45,  2.74,  2.95,\n",
       "        2.8 ,  2.77,  2.9 ,  2.82,  3.77,  3.9 ,  3.73,  3.34,  3.86,\n",
       "        3.89,  3.81,  3.42,  3.71,  3.91,  3.2 ,  3.1 ,  4.06,  3.97,\n",
       "        4.02,  4.2 ,  4.11,  3.99,  4.23,  3.27,  3.92,  4.15,  2.83,\n",
       "        2.81,  4.04,  3.82,  4.21,  4.1 ,  4.26,  4.29,  3.26,  2.88,\n",
       "        2.5 ,  4.16,  4.14,  4.12,  3.25,  4.7 ,  4.19,  3.13,  4.05,\n",
       "        4.27,  4.34,  3.14,  2.97,  4.17,  3.36,  4.42,  4.28,  4.38,\n",
       "        3.29,  0.  ,  4.25,  4.78,  2.99,  2.57,  2.84,  4.22,  2.6 ,\n",
       "        3.15,  4.32,  4.3 ,  2.85,  3.01,  3.28,  4.63,  4.65,  3.12,\n",
       "        4.52,  4.47,  2.89,  4.24,  4.49,  4.57,  4.36,  4.8 ,  4.76,\n",
       "        2.94,  4.66,  4.54,  4.56,  4.62,  4.37,  4.46,  4.31,  2.91,\n",
       "        4.5 ,  4.39,  4.4 ,  4.55,  2.86,  2.35,  2.93,  4.41,  4.51,\n",
       "        4.45,  4.72,  4.48,  2.98,  4.75,  4.64,  4.84,  2.92,  4.87,\n",
       "        4.35,  4.53,  4.44,  4.6 ,  4.81,  4.68,  4.82,  3.  ,  4.58,\n",
       "        4.97,  5.12,  4.59,  4.61,  4.95,  4.98,  4.79,  4.43,  5.36,\n",
       "        2.36,  5.23,  5.04,  4.74,  5.1 ,  4.92,  5.17,  4.71,  5.43,\n",
       "        1.07,  5.29,  4.67,  5.07,  5.19,  4.93,  5.15,  4.73,  5.08,\n",
       "        5.06,  5.45,  4.85,  5.27,  4.69,  5.18,  5.16,  4.94,  4.77,\n",
       "        5.25,  5.77,  5.02,  5.14,  5.44,  5.24,  4.99,  5.41,  5.58,\n",
       "        5.76,  5.22,  5.31,  5.09,  5.28,  5.47,  5.01,  5.  ,  4.91,\n",
       "        4.88,  5.32,  4.89,  5.67,  5.97,  5.33,  5.2 ,  4.83,  5.53,\n",
       "        5.37,  5.65,  1.53,  4.9 ,  5.21,  5.05,  5.11,  5.35,  1.41,\n",
       "        4.96,  5.98,  5.03,  5.73,  4.86,  5.6 ,  5.56,  5.66,  5.26,\n",
       "        5.91,  3.04,  5.3 ,  5.79,  5.13,  6.38,  5.49,  5.34,  8.06,\n",
       "        5.85,  5.57,  5.92,  6.03,  3.02,  5.48,  5.62,  5.46,  3.03,\n",
       "        5.55,  5.39,  5.5 ,  6.17,  6.24,  5.75,  6.16,  5.51,  6.27,\n",
       "        6.31,  5.69,  6.13,  5.54,  5.86,  5.38,  5.72,  5.4 ,  5.61,\n",
       "        6.43,  5.52,  5.42,  6.98,  5.9 ,  6.72,  5.64,  5.59,  3.06,\n",
       "        3.05,  3.07,  3.09,  3.11,  2.26,  2.24,  2.32,  2.28,  2.3 ,\n",
       "        2.38,  2.34,  2.29,  2.06,  2.25, 31.8 ])"
      ]
     },
     "execution_count": 39,
     "metadata": {},
     "output_type": "execute_result"
    }
   ],
   "source": [
    "df.z.unique()"
   ]
  },
  {
   "cell_type": "code",
   "execution_count": 40,
   "id": "9f2bb46d",
   "metadata": {},
   "outputs": [
    {
     "data": {
      "image/png": "[encoded data removed]",
      "text/plain": [
       "<Figure size 640x480 with 1 Axes>"
      ]
     },
     "metadata": {},
     "output_type": "display_data"
    }
   ],
   "source": [
    "df.z.plot(kind='kde')\n",
    "plt.show()"
   ]
  },
  {
   "cell_type": "code",
   "execution_count": 41,
   "id": "2d5c8b03",
   "metadata": {},
   "outputs": [
    {
     "data": {
      "image/png": "[encoded data removed]",
      "text/plain": [
       "<Figure size 640x480 with 1 Axes>"
      ]
     },
     "metadata": {},
     "output_type": "display_data"
    }
   ],
   "source": [
    "df.z.plot(kind='box')\n",
    "plt.show()"
   ]
  },
  {
   "cell_type": "markdown",
   "id": "4b2dde91",
   "metadata": {},
   "source": [
    "**price column**"
   ]
  },
  {
   "cell_type": "code",
   "execution_count": 42,
   "id": "91a30f70",
   "metadata": {},
   "outputs": [
    {
     "data": {
      "image/png": "[encoded data removed]",
      "text/plain": [
       "<Figure size 640x480 with 1 Axes>"
      ]
     },
     "metadata": {},
     "output_type": "display_data"
    }
   ],
   "source": [
    "df.price.plot(kind='kde')\n",
    "plt.show()"
   ]
  },
  {
   "cell_type": "code",
   "execution_count": 43,
   "id": "b2cbd04a",
   "metadata": {},
   "outputs": [
    {
     "data": {
      "image/png": "[encoded data removed]",
      "text/plain": [
       "<Figure size 640x480 with 1 Axes>"
      ]
     },
     "metadata": {},
     "output_type": "display_data"
    }
   ],
   "source": [
    "df.price.plot(kind='box')\n",
    "plt.show()"
   ]
  },
  {
   "cell_type": "code",
   "execution_count": 44,
   "id": "b9c8dea3",
   "metadata": {},
   "outputs": [
    {
     "data": {
      "text/html": [
       "<div>\n",
       "<style scoped>\n",
       "    .dataframe tbody tr th:only-of-type {\n",
       "        vertical-align: middle;\n",
       "    }\n",
       "\n",
       "    .dataframe tbody tr th {\n",
       "        vertical-align: top;\n",
       "    }\n",
       "\n",
       "    .dataframe thead th {\n",
       "        text-align: right;\n",
       "    }\n",
       "</style>\n",
       "<table border=\"1\" class=\"dataframe\">\n",
       "  <thead>\n",
       "    <tr style=\"text-align: right;\">\n",
       "      <th></th>\n",
       "      <th>carat</th>\n",
       "      <th>cut</th>\n",
       "      <th>color</th>\n",
       "      <th>clarity</th>\n",
       "      <th>depth</th>\n",
       "      <th>table</th>\n",
       "      <th>price</th>\n",
       "      <th>x</th>\n",
       "      <th>y</th>\n",
       "      <th>z</th>\n",
       "    </tr>\n",
       "  </thead>\n",
       "  <tbody>\n",
       "    <tr>\n",
       "      <th>0</th>\n",
       "      <td>0.23</td>\n",
       "      <td>Ideal</td>\n",
       "      <td>E</td>\n",
       "      <td>SI2</td>\n",
       "      <td>61.5</td>\n",
       "      <td>55.0</td>\n",
       "      <td>326</td>\n",
       "      <td>3.95</td>\n",
       "      <td>3.98</td>\n",
       "      <td>2.43</td>\n",
       "    </tr>\n",
       "    <tr>\n",
       "      <th>1</th>\n",
       "      <td>0.21</td>\n",
       "      <td>Premium</td>\n",
       "      <td>E</td>\n",
       "      <td>SI1</td>\n",
       "      <td>59.8</td>\n",
       "      <td>61.0</td>\n",
       "      <td>326</td>\n",
       "      <td>3.89</td>\n",
       "      <td>3.84</td>\n",
       "      <td>2.31</td>\n",
       "    </tr>\n",
       "    <tr>\n",
       "      <th>2</th>\n",
       "      <td>0.23</td>\n",
       "      <td>Good</td>\n",
       "      <td>E</td>\n",
       "      <td>VS1</td>\n",
       "      <td>56.9</td>\n",
       "      <td>65.0</td>\n",
       "      <td>327</td>\n",
       "      <td>4.05</td>\n",
       "      <td>4.07</td>\n",
       "      <td>2.31</td>\n",
       "    </tr>\n",
       "    <tr>\n",
       "      <th>3</th>\n",
       "      <td>0.29</td>\n",
       "      <td>Premium</td>\n",
       "      <td>I</td>\n",
       "      <td>VS2</td>\n",
       "      <td>62.4</td>\n",
       "      <td>58.0</td>\n",
       "      <td>334</td>\n",
       "      <td>4.20</td>\n",
       "      <td>4.23</td>\n",
       "      <td>2.63</td>\n",
       "    </tr>\n",
       "    <tr>\n",
       "      <th>4</th>\n",
       "      <td>0.31</td>\n",
       "      <td>Good</td>\n",
       "      <td>J</td>\n",
       "      <td>SI2</td>\n",
       "      <td>63.3</td>\n",
       "      <td>58.0</td>\n",
       "      <td>335</td>\n",
       "      <td>4.34</td>\n",
       "      <td>4.35</td>\n",
       "      <td>2.75</td>\n",
       "    </tr>\n",
       "  </tbody>\n",
       "</table>\n",
       "</div>"
      ],
      "text/plain": [
       "   carat      cut color clarity  depth  table  price     x     y     z\n",
       "0   0.23    Ideal     E     SI2   61.5   55.0    326  3.95  3.98  2.43\n",
       "1   0.21  Premium     E     SI1   59.8   61.0    326  3.89  3.84  2.31\n",
       "2   0.23     Good     E     VS1   56.9   65.0    327  4.05  4.07  2.31\n",
       "3   0.29  Premium     I     VS2   62.4   58.0    334  4.20  4.23  2.63\n",
       "4   0.31     Good     J     SI2   63.3   58.0    335  4.34  4.35  2.75"
      ]
     },
     "execution_count": 44,
     "metadata": {},
     "output_type": "execute_result"
    }
   ],
   "source": [
    "df.head()"
   ]
  },
  {
   "cell_type": "markdown",
   "id": "70e0023f",
   "metadata": {},
   "source": [
    "## Model Building\n",
    "\n",
    "Model building refers to the process of creating a mathematical or computational representation of a system or phenomenon. This representation, known as a model, is used to simulate, predict, or analyze the behavior of the system or phenomenon under different conditions. The process of building a model typically involves defining the problem, collecting and preprocessing data, selecting an appropriate algorithm or approach, training and validating the model, and deploying it for use. The quality and accuracy of the model depends on various factors such as the quality and quantity of data, the choice of algorithm, and the skill of the model builder."
   ]
  },
  {
   "cell_type": "code",
   "execution_count": 45,
   "id": "5c39caa7",
   "metadata": {},
   "outputs": [],
   "source": [
    "X = df.drop('price', axis=1)"
   ]
  },
  {
   "cell_type": "code",
   "execution_count": 46,
   "id": "93c569de",
   "metadata": {},
   "outputs": [
    {
     "data": {
      "text/html": [
       "<div>\n",
       "<style scoped>\n",
       "    .dataframe tbody tr th:only-of-type {\n",
       "        vertical-align: middle;\n",
       "    }\n",
       "\n",
       "    .dataframe tbody tr th {\n",
       "        vertical-align: top;\n",
       "    }\n",
       "\n",
       "    .dataframe thead th {\n",
       "        text-align: right;\n",
       "    }\n",
       "</style>\n",
       "<table border=\"1\" class=\"dataframe\">\n",
       "  <thead>\n",
       "    <tr style=\"text-align: right;\">\n",
       "      <th></th>\n",
       "      <th>carat</th>\n",
       "      <th>cut</th>\n",
       "      <th>color</th>\n",
       "      <th>clarity</th>\n",
       "      <th>depth</th>\n",
       "      <th>table</th>\n",
       "      <th>x</th>\n",
       "      <th>y</th>\n",
       "      <th>z</th>\n",
       "    </tr>\n",
       "  </thead>\n",
       "  <tbody>\n",
       "    <tr>\n",
       "      <th>0</th>\n",
       "      <td>0.23</td>\n",
       "      <td>Ideal</td>\n",
       "      <td>E</td>\n",
       "      <td>SI2</td>\n",
       "      <td>61.5</td>\n",
       "      <td>55.0</td>\n",
       "      <td>3.95</td>\n",
       "      <td>3.98</td>\n",
       "      <td>2.43</td>\n",
       "    </tr>\n",
       "    <tr>\n",
       "      <th>1</th>\n",
       "      <td>0.21</td>\n",
       "      <td>Premium</td>\n",
       "      <td>E</td>\n",
       "      <td>SI1</td>\n",
       "      <td>59.8</td>\n",
       "      <td>61.0</td>\n",
       "      <td>3.89</td>\n",
       "      <td>3.84</td>\n",
       "      <td>2.31</td>\n",
       "    </tr>\n",
       "    <tr>\n",
       "      <th>2</th>\n",
       "      <td>0.23</td>\n",
       "      <td>Good</td>\n",
       "      <td>E</td>\n",
       "      <td>VS1</td>\n",
       "      <td>56.9</td>\n",
       "      <td>65.0</td>\n",
       "      <td>4.05</td>\n",
       "      <td>4.07</td>\n",
       "      <td>2.31</td>\n",
       "    </tr>\n",
       "    <tr>\n",
       "      <th>3</th>\n",
       "      <td>0.29</td>\n",
       "      <td>Premium</td>\n",
       "      <td>I</td>\n",
       "      <td>VS2</td>\n",
       "      <td>62.4</td>\n",
       "      <td>58.0</td>\n",
       "      <td>4.20</td>\n",
       "      <td>4.23</td>\n",
       "      <td>2.63</td>\n",
       "    </tr>\n",
       "    <tr>\n",
       "      <th>4</th>\n",
       "      <td>0.31</td>\n",
       "      <td>Good</td>\n",
       "      <td>J</td>\n",
       "      <td>SI2</td>\n",
       "      <td>63.3</td>\n",
       "      <td>58.0</td>\n",
       "      <td>4.34</td>\n",
       "      <td>4.35</td>\n",
       "      <td>2.75</td>\n",
       "    </tr>\n",
       "    <tr>\n",
       "      <th>...</th>\n",
       "      <td>...</td>\n",
       "      <td>...</td>\n",
       "      <td>...</td>\n",
       "      <td>...</td>\n",
       "      <td>...</td>\n",
       "      <td>...</td>\n",
       "      <td>...</td>\n",
       "      <td>...</td>\n",
       "      <td>...</td>\n",
       "    </tr>\n",
       "    <tr>\n",
       "      <th>53935</th>\n",
       "      <td>0.72</td>\n",
       "      <td>Ideal</td>\n",
       "      <td>D</td>\n",
       "      <td>SI1</td>\n",
       "      <td>60.8</td>\n",
       "      <td>57.0</td>\n",
       "      <td>5.75</td>\n",
       "      <td>5.76</td>\n",
       "      <td>3.50</td>\n",
       "    </tr>\n",
       "    <tr>\n",
       "      <th>53936</th>\n",
       "      <td>0.72</td>\n",
       "      <td>Good</td>\n",
       "      <td>D</td>\n",
       "      <td>SI1</td>\n",
       "      <td>63.1</td>\n",
       "      <td>55.0</td>\n",
       "      <td>5.69</td>\n",
       "      <td>5.75</td>\n",
       "      <td>3.61</td>\n",
       "    </tr>\n",
       "    <tr>\n",
       "      <th>53937</th>\n",
       "      <td>0.70</td>\n",
       "      <td>Very Good</td>\n",
       "      <td>D</td>\n",
       "      <td>SI1</td>\n",
       "      <td>62.8</td>\n",
       "      <td>60.0</td>\n",
       "      <td>5.66</td>\n",
       "      <td>5.68</td>\n",
       "      <td>3.56</td>\n",
       "    </tr>\n",
       "    <tr>\n",
       "      <th>53938</th>\n",
       "      <td>0.86</td>\n",
       "      <td>Premium</td>\n",
       "      <td>H</td>\n",
       "      <td>SI2</td>\n",
       "      <td>61.0</td>\n",
       "      <td>58.0</td>\n",
       "      <td>6.15</td>\n",
       "      <td>6.12</td>\n",
       "      <td>3.74</td>\n",
       "    </tr>\n",
       "    <tr>\n",
       "      <th>53939</th>\n",
       "      <td>0.75</td>\n",
       "      <td>Ideal</td>\n",
       "      <td>D</td>\n",
       "      <td>SI2</td>\n",
       "      <td>62.2</td>\n",
       "      <td>55.0</td>\n",
       "      <td>5.83</td>\n",
       "      <td>5.87</td>\n",
       "      <td>3.64</td>\n",
       "    </tr>\n",
       "  </tbody>\n",
       "</table>\n",
       "<p>53794 rows × 9 columns</p>\n",
       "</div>"
      ],
      "text/plain": [
       "       carat        cut color clarity  depth  table     x     y     z\n",
       "0       0.23      Ideal     E     SI2   61.5   55.0  3.95  3.98  2.43\n",
       "1       0.21    Premium     E     SI1   59.8   61.0  3.89  3.84  2.31\n",
       "2       0.23       Good     E     VS1   56.9   65.0  4.05  4.07  2.31\n",
       "3       0.29    Premium     I     VS2   62.4   58.0  4.20  4.23  2.63\n",
       "4       0.31       Good     J     SI2   63.3   58.0  4.34  4.35  2.75\n",
       "...      ...        ...   ...     ...    ...    ...   ...   ...   ...\n",
       "53935   0.72      Ideal     D     SI1   60.8   57.0  5.75  5.76  3.50\n",
       "53936   0.72       Good     D     SI1   63.1   55.0  5.69  5.75  3.61\n",
       "53937   0.70  Very Good     D     SI1   62.8   60.0  5.66  5.68  3.56\n",
       "53938   0.86    Premium     H     SI2   61.0   58.0  6.15  6.12  3.74\n",
       "53939   0.75      Ideal     D     SI2   62.2   55.0  5.83  5.87  3.64\n",
       "\n",
       "[53794 rows x 9 columns]"
      ]
     },
     "execution_count": 46,
     "metadata": {},
     "output_type": "execute_result"
    }
   ],
   "source": [
    "X"
   ]
  },
  {
   "cell_type": "code",
   "execution_count": 47,
   "id": "a3bda34f",
   "metadata": {},
   "outputs": [],
   "source": [
    "y = df.price"
   ]
  },
  {
   "cell_type": "code",
   "execution_count": 48,
   "id": "328deb8b",
   "metadata": {},
   "outputs": [
    {
     "data": {
      "text/plain": [
       "0         326\n",
       "1         326\n",
       "2         327\n",
       "3         334\n",
       "4         335\n",
       "         ... \n",
       "53935    2757\n",
       "53936    2757\n",
       "53937    2757\n",
       "53938    2757\n",
       "53939    2757\n",
       "Name: price, Length: 53794, dtype: int64"
      ]
     },
     "execution_count": 48,
     "metadata": {},
     "output_type": "execute_result"
    }
   ],
   "source": [
    "y"
   ]
  },
  {
   "cell_type": "markdown",
   "id": "d71fd426",
   "metadata": {},
   "source": [
    "## Train Test Split\n",
    "\n",
    "Train-test split is a common technique used in machine learning to evaluate the performance of a model. It involves splitting the dataset into two separate parts: the training set and the testing set. The training set is used to train the model, and the testing set is used to evaluate its performance on unseen data. By evaluating the performance of the model on the testing set, we can estimate how well the model will generalize to new data. The most common split ratio is 80:20, where 80% of the data is used for training, and 20% is used for testing. However, this ratio can be adjusted based on the size and complexity of the dataset."
   ]
  },
  {
   "cell_type": "code",
   "execution_count": 49,
   "id": "406aa570",
   "metadata": {},
   "outputs": [],
   "source": [
    "from sklearn.model_selection import train_test_split\n",
    "\n",
    "X_train, X_test, y_train, y_test = train_test_split(X, y, test_size = 0.2, random_state = 51)"
   ]
  },
  {
   "cell_type": "code",
   "execution_count": 50,
   "id": "91709479",
   "metadata": {},
   "outputs": [
    {
     "data": {
      "text/html": [
       "<div>\n",
       "<style scoped>\n",
       "    .dataframe tbody tr th:only-of-type {\n",
       "        vertical-align: middle;\n",
       "    }\n",
       "\n",
       "    .dataframe tbody tr th {\n",
       "        vertical-align: top;\n",
       "    }\n",
       "\n",
       "    .dataframe thead th {\n",
       "        text-align: right;\n",
       "    }\n",
       "</style>\n",
       "<table border=\"1\" class=\"dataframe\">\n",
       "  <thead>\n",
       "    <tr style=\"text-align: right;\">\n",
       "      <th></th>\n",
       "      <th>carat</th>\n",
       "      <th>cut</th>\n",
       "      <th>color</th>\n",
       "      <th>clarity</th>\n",
       "      <th>depth</th>\n",
       "      <th>table</th>\n",
       "      <th>x</th>\n",
       "      <th>y</th>\n",
       "      <th>z</th>\n",
       "    </tr>\n",
       "  </thead>\n",
       "  <tbody>\n",
       "    <tr>\n",
       "      <th>10174</th>\n",
       "      <td>1.00</td>\n",
       "      <td>Premium</td>\n",
       "      <td>H</td>\n",
       "      <td>VS1</td>\n",
       "      <td>59.1</td>\n",
       "      <td>60.0</td>\n",
       "      <td>6.45</td>\n",
       "      <td>6.42</td>\n",
       "      <td>3.80</td>\n",
       "    </tr>\n",
       "    <tr>\n",
       "      <th>46754</th>\n",
       "      <td>0.57</td>\n",
       "      <td>Ideal</td>\n",
       "      <td>H</td>\n",
       "      <td>VS1</td>\n",
       "      <td>60.9</td>\n",
       "      <td>56.0</td>\n",
       "      <td>5.34</td>\n",
       "      <td>5.36</td>\n",
       "      <td>3.26</td>\n",
       "    </tr>\n",
       "    <tr>\n",
       "      <th>33531</th>\n",
       "      <td>0.35</td>\n",
       "      <td>Ideal</td>\n",
       "      <td>D</td>\n",
       "      <td>VS2</td>\n",
       "      <td>61.9</td>\n",
       "      <td>55.0</td>\n",
       "      <td>4.50</td>\n",
       "      <td>4.54</td>\n",
       "      <td>2.80</td>\n",
       "    </tr>\n",
       "    <tr>\n",
       "      <th>27055</th>\n",
       "      <td>0.28</td>\n",
       "      <td>Premium</td>\n",
       "      <td>H</td>\n",
       "      <td>VVS1</td>\n",
       "      <td>59.9</td>\n",
       "      <td>62.0</td>\n",
       "      <td>4.28</td>\n",
       "      <td>4.23</td>\n",
       "      <td>2.55</td>\n",
       "    </tr>\n",
       "    <tr>\n",
       "      <th>50182</th>\n",
       "      <td>0.64</td>\n",
       "      <td>Good</td>\n",
       "      <td>F</td>\n",
       "      <td>VS1</td>\n",
       "      <td>57.7</td>\n",
       "      <td>61.0</td>\n",
       "      <td>5.68</td>\n",
       "      <td>5.75</td>\n",
       "      <td>3.29</td>\n",
       "    </tr>\n",
       "    <tr>\n",
       "      <th>...</th>\n",
       "      <td>...</td>\n",
       "      <td>...</td>\n",
       "      <td>...</td>\n",
       "      <td>...</td>\n",
       "      <td>...</td>\n",
       "      <td>...</td>\n",
       "      <td>...</td>\n",
       "      <td>...</td>\n",
       "      <td>...</td>\n",
       "    </tr>\n",
       "    <tr>\n",
       "      <th>49239</th>\n",
       "      <td>0.58</td>\n",
       "      <td>Good</td>\n",
       "      <td>F</td>\n",
       "      <td>VS1</td>\n",
       "      <td>62.2</td>\n",
       "      <td>62.0</td>\n",
       "      <td>5.37</td>\n",
       "      <td>5.44</td>\n",
       "      <td>3.36</td>\n",
       "    </tr>\n",
       "    <tr>\n",
       "      <th>1764</th>\n",
       "      <td>0.75</td>\n",
       "      <td>Ideal</td>\n",
       "      <td>E</td>\n",
       "      <td>SI1</td>\n",
       "      <td>60.8</td>\n",
       "      <td>56.0</td>\n",
       "      <td>5.91</td>\n",
       "      <td>5.89</td>\n",
       "      <td>3.59</td>\n",
       "    </tr>\n",
       "    <tr>\n",
       "      <th>16907</th>\n",
       "      <td>1.50</td>\n",
       "      <td>Premium</td>\n",
       "      <td>J</td>\n",
       "      <td>SI2</td>\n",
       "      <td>61.4</td>\n",
       "      <td>61.0</td>\n",
       "      <td>7.36</td>\n",
       "      <td>7.30</td>\n",
       "      <td>4.50</td>\n",
       "    </tr>\n",
       "    <tr>\n",
       "      <th>34973</th>\n",
       "      <td>0.23</td>\n",
       "      <td>Very Good</td>\n",
       "      <td>D</td>\n",
       "      <td>VVS1</td>\n",
       "      <td>60.5</td>\n",
       "      <td>55.0</td>\n",
       "      <td>4.01</td>\n",
       "      <td>4.02</td>\n",
       "      <td>2.43</td>\n",
       "    </tr>\n",
       "    <tr>\n",
       "      <th>48268</th>\n",
       "      <td>0.53</td>\n",
       "      <td>Premium</td>\n",
       "      <td>D</td>\n",
       "      <td>VS2</td>\n",
       "      <td>60.4</td>\n",
       "      <td>58.0</td>\n",
       "      <td>5.26</td>\n",
       "      <td>5.23</td>\n",
       "      <td>3.17</td>\n",
       "    </tr>\n",
       "  </tbody>\n",
       "</table>\n",
       "<p>43035 rows × 9 columns</p>\n",
       "</div>"
      ],
      "text/plain": [
       "       carat        cut color clarity  depth  table     x     y     z\n",
       "10174   1.00    Premium     H     VS1   59.1   60.0  6.45  6.42  3.80\n",
       "46754   0.57      Ideal     H     VS1   60.9   56.0  5.34  5.36  3.26\n",
       "33531   0.35      Ideal     D     VS2   61.9   55.0  4.50  4.54  2.80\n",
       "27055   0.28    Premium     H    VVS1   59.9   62.0  4.28  4.23  2.55\n",
       "50182   0.64       Good     F     VS1   57.7   61.0  5.68  5.75  3.29\n",
       "...      ...        ...   ...     ...    ...    ...   ...   ...   ...\n",
       "49239   0.58       Good     F     VS1   62.2   62.0  5.37  5.44  3.36\n",
       "1764    0.75      Ideal     E     SI1   60.8   56.0  5.91  5.89  3.59\n",
       "16907   1.50    Premium     J     SI2   61.4   61.0  7.36  7.30  4.50\n",
       "34973   0.23  Very Good     D    VVS1   60.5   55.0  4.01  4.02  2.43\n",
       "48268   0.53    Premium     D     VS2   60.4   58.0  5.26  5.23  3.17\n",
       "\n",
       "[43035 rows x 9 columns]"
      ]
     },
     "execution_count": 50,
     "metadata": {},
     "output_type": "execute_result"
    }
   ],
   "source": [
    "X_train"
   ]
  },
  {
   "cell_type": "code",
   "execution_count": 51,
   "id": "557747f7",
   "metadata": {},
   "outputs": [
    {
     "data": {
      "text/html": [
       "<div>\n",
       "<style scoped>\n",
       "    .dataframe tbody tr th:only-of-type {\n",
       "        vertical-align: middle;\n",
       "    }\n",
       "\n",
       "    .dataframe tbody tr th {\n",
       "        vertical-align: top;\n",
       "    }\n",
       "\n",
       "    .dataframe thead th {\n",
       "        text-align: right;\n",
       "    }\n",
       "</style>\n",
       "<table border=\"1\" class=\"dataframe\">\n",
       "  <thead>\n",
       "    <tr style=\"text-align: right;\">\n",
       "      <th></th>\n",
       "      <th>carat</th>\n",
       "      <th>cut</th>\n",
       "      <th>color</th>\n",
       "      <th>clarity</th>\n",
       "      <th>depth</th>\n",
       "      <th>table</th>\n",
       "      <th>x</th>\n",
       "      <th>y</th>\n",
       "      <th>z</th>\n",
       "    </tr>\n",
       "  </thead>\n",
       "  <tbody>\n",
       "    <tr>\n",
       "      <th>45001</th>\n",
       "      <td>0.57</td>\n",
       "      <td>Ideal</td>\n",
       "      <td>F</td>\n",
       "      <td>VS2</td>\n",
       "      <td>62.1</td>\n",
       "      <td>55.0</td>\n",
       "      <td>5.31</td>\n",
       "      <td>5.35</td>\n",
       "      <td>3.31</td>\n",
       "    </tr>\n",
       "    <tr>\n",
       "      <th>4106</th>\n",
       "      <td>0.78</td>\n",
       "      <td>Ideal</td>\n",
       "      <td>F</td>\n",
       "      <td>VS1</td>\n",
       "      <td>61.6</td>\n",
       "      <td>56.0</td>\n",
       "      <td>5.90</td>\n",
       "      <td>5.92</td>\n",
       "      <td>3.64</td>\n",
       "    </tr>\n",
       "    <tr>\n",
       "      <th>40712</th>\n",
       "      <td>0.53</td>\n",
       "      <td>Premium</td>\n",
       "      <td>H</td>\n",
       "      <td>SI1</td>\n",
       "      <td>61.2</td>\n",
       "      <td>60.0</td>\n",
       "      <td>5.22</td>\n",
       "      <td>5.10</td>\n",
       "      <td>3.16</td>\n",
       "    </tr>\n",
       "    <tr>\n",
       "      <th>18187</th>\n",
       "      <td>1.20</td>\n",
       "      <td>Ideal</td>\n",
       "      <td>G</td>\n",
       "      <td>SI1</td>\n",
       "      <td>61.6</td>\n",
       "      <td>57.0</td>\n",
       "      <td>6.85</td>\n",
       "      <td>6.88</td>\n",
       "      <td>4.23</td>\n",
       "    </tr>\n",
       "    <tr>\n",
       "      <th>2331</th>\n",
       "      <td>0.92</td>\n",
       "      <td>Ideal</td>\n",
       "      <td>J</td>\n",
       "      <td>SI1</td>\n",
       "      <td>62.3</td>\n",
       "      <td>56.0</td>\n",
       "      <td>6.24</td>\n",
       "      <td>6.29</td>\n",
       "      <td>3.90</td>\n",
       "    </tr>\n",
       "    <tr>\n",
       "      <th>...</th>\n",
       "      <td>...</td>\n",
       "      <td>...</td>\n",
       "      <td>...</td>\n",
       "      <td>...</td>\n",
       "      <td>...</td>\n",
       "      <td>...</td>\n",
       "      <td>...</td>\n",
       "      <td>...</td>\n",
       "      <td>...</td>\n",
       "    </tr>\n",
       "    <tr>\n",
       "      <th>18826</th>\n",
       "      <td>1.30</td>\n",
       "      <td>Premium</td>\n",
       "      <td>H</td>\n",
       "      <td>VS1</td>\n",
       "      <td>61.5</td>\n",
       "      <td>58.0</td>\n",
       "      <td>6.96</td>\n",
       "      <td>6.98</td>\n",
       "      <td>4.29</td>\n",
       "    </tr>\n",
       "    <tr>\n",
       "      <th>53509</th>\n",
       "      <td>0.70</td>\n",
       "      <td>Premium</td>\n",
       "      <td>F</td>\n",
       "      <td>VS2</td>\n",
       "      <td>62.4</td>\n",
       "      <td>59.0</td>\n",
       "      <td>5.68</td>\n",
       "      <td>5.64</td>\n",
       "      <td>3.53</td>\n",
       "    </tr>\n",
       "    <tr>\n",
       "      <th>44626</th>\n",
       "      <td>0.57</td>\n",
       "      <td>Premium</td>\n",
       "      <td>G</td>\n",
       "      <td>VS2</td>\n",
       "      <td>59.7</td>\n",
       "      <td>59.0</td>\n",
       "      <td>5.37</td>\n",
       "      <td>5.41</td>\n",
       "      <td>3.22</td>\n",
       "    </tr>\n",
       "    <tr>\n",
       "      <th>36294</th>\n",
       "      <td>0.34</td>\n",
       "      <td>Very Good</td>\n",
       "      <td>I</td>\n",
       "      <td>VS2</td>\n",
       "      <td>62.1</td>\n",
       "      <td>57.0</td>\n",
       "      <td>4.44</td>\n",
       "      <td>4.48</td>\n",
       "      <td>2.77</td>\n",
       "    </tr>\n",
       "    <tr>\n",
       "      <th>20935</th>\n",
       "      <td>1.64</td>\n",
       "      <td>Very Good</td>\n",
       "      <td>I</td>\n",
       "      <td>SI1</td>\n",
       "      <td>62.3</td>\n",
       "      <td>58.0</td>\n",
       "      <td>7.53</td>\n",
       "      <td>7.63</td>\n",
       "      <td>4.72</td>\n",
       "    </tr>\n",
       "  </tbody>\n",
       "</table>\n",
       "<p>10759 rows × 9 columns</p>\n",
       "</div>"
      ],
      "text/plain": [
       "       carat        cut color clarity  depth  table     x     y     z\n",
       "45001   0.57      Ideal     F     VS2   62.1   55.0  5.31  5.35  3.31\n",
       "4106    0.78      Ideal     F     VS1   61.6   56.0  5.90  5.92  3.64\n",
       "40712   0.53    Premium     H     SI1   61.2   60.0  5.22  5.10  3.16\n",
       "18187   1.20      Ideal     G     SI1   61.6   57.0  6.85  6.88  4.23\n",
       "2331    0.92      Ideal     J     SI1   62.3   56.0  6.24  6.29  3.90\n",
       "...      ...        ...   ...     ...    ...    ...   ...   ...   ...\n",
       "18826   1.30    Premium     H     VS1   61.5   58.0  6.96  6.98  4.29\n",
       "53509   0.70    Premium     F     VS2   62.4   59.0  5.68  5.64  3.53\n",
       "44626   0.57    Premium     G     VS2   59.7   59.0  5.37  5.41  3.22\n",
       "36294   0.34  Very Good     I     VS2   62.1   57.0  4.44  4.48  2.77\n",
       "20935   1.64  Very Good     I     SI1   62.3   58.0  7.53  7.63  4.72\n",
       "\n",
       "[10759 rows x 9 columns]"
      ]
     },
     "execution_count": 51,
     "metadata": {},
     "output_type": "execute_result"
    }
   ],
   "source": [
    "X_test"
   ]
  },
  {
   "cell_type": "code",
   "execution_count": 52,
   "id": "069093ce",
   "metadata": {},
   "outputs": [
    {
     "name": "stdout",
     "output_type": "stream",
     "text": [
      "X_train Shape is :  (43035, 9)\n",
      "X_test Shape is :  (10759, 9)\n",
      "y_train Shape is :  (43035,)\n",
      "y_test Shape is :  (10759,)\n"
     ]
    }
   ],
   "source": [
    "print(\"X_train Shape is : \", X_train.shape)\n",
    "print(\"X_test Shape is : \", X_test.shape)\n",
    "print(\"y_train Shape is : \", y_train.shape)\n",
    "print(\"y_test Shape is : \", y_test.shape)"
   ]
  },
  {
   "cell_type": "code",
   "execution_count": 53,
   "id": "5533bcd4",
   "metadata": {},
   "outputs": [
    {
     "data": {
      "text/html": [
       "<div>\n",
       "<style scoped>\n",
       "    .dataframe tbody tr th:only-of-type {\n",
       "        vertical-align: middle;\n",
       "    }\n",
       "\n",
       "    .dataframe tbody tr th {\n",
       "        vertical-align: top;\n",
       "    }\n",
       "\n",
       "    .dataframe thead th {\n",
       "        text-align: right;\n",
       "    }\n",
       "</style>\n",
       "<table border=\"1\" class=\"dataframe\">\n",
       "  <thead>\n",
       "    <tr style=\"text-align: right;\">\n",
       "      <th></th>\n",
       "      <th>carat</th>\n",
       "      <th>cut</th>\n",
       "      <th>color</th>\n",
       "      <th>clarity</th>\n",
       "      <th>depth</th>\n",
       "      <th>table</th>\n",
       "      <th>price</th>\n",
       "      <th>x</th>\n",
       "      <th>y</th>\n",
       "      <th>z</th>\n",
       "    </tr>\n",
       "  </thead>\n",
       "  <tbody>\n",
       "    <tr>\n",
       "      <th>0</th>\n",
       "      <td>0.23</td>\n",
       "      <td>Ideal</td>\n",
       "      <td>E</td>\n",
       "      <td>SI2</td>\n",
       "      <td>61.5</td>\n",
       "      <td>55.0</td>\n",
       "      <td>326</td>\n",
       "      <td>3.95</td>\n",
       "      <td>3.98</td>\n",
       "      <td>2.43</td>\n",
       "    </tr>\n",
       "    <tr>\n",
       "      <th>1</th>\n",
       "      <td>0.21</td>\n",
       "      <td>Premium</td>\n",
       "      <td>E</td>\n",
       "      <td>SI1</td>\n",
       "      <td>59.8</td>\n",
       "      <td>61.0</td>\n",
       "      <td>326</td>\n",
       "      <td>3.89</td>\n",
       "      <td>3.84</td>\n",
       "      <td>2.31</td>\n",
       "    </tr>\n",
       "    <tr>\n",
       "      <th>2</th>\n",
       "      <td>0.23</td>\n",
       "      <td>Good</td>\n",
       "      <td>E</td>\n",
       "      <td>VS1</td>\n",
       "      <td>56.9</td>\n",
       "      <td>65.0</td>\n",
       "      <td>327</td>\n",
       "      <td>4.05</td>\n",
       "      <td>4.07</td>\n",
       "      <td>2.31</td>\n",
       "    </tr>\n",
       "    <tr>\n",
       "      <th>3</th>\n",
       "      <td>0.29</td>\n",
       "      <td>Premium</td>\n",
       "      <td>I</td>\n",
       "      <td>VS2</td>\n",
       "      <td>62.4</td>\n",
       "      <td>58.0</td>\n",
       "      <td>334</td>\n",
       "      <td>4.20</td>\n",
       "      <td>4.23</td>\n",
       "      <td>2.63</td>\n",
       "    </tr>\n",
       "    <tr>\n",
       "      <th>4</th>\n",
       "      <td>0.31</td>\n",
       "      <td>Good</td>\n",
       "      <td>J</td>\n",
       "      <td>SI2</td>\n",
       "      <td>63.3</td>\n",
       "      <td>58.0</td>\n",
       "      <td>335</td>\n",
       "      <td>4.34</td>\n",
       "      <td>4.35</td>\n",
       "      <td>2.75</td>\n",
       "    </tr>\n",
       "  </tbody>\n",
       "</table>\n",
       "</div>"
      ],
      "text/plain": [
       "   carat      cut color clarity  depth  table  price     x     y     z\n",
       "0   0.23    Ideal     E     SI2   61.5   55.0    326  3.95  3.98  2.43\n",
       "1   0.21  Premium     E     SI1   59.8   61.0    326  3.89  3.84  2.31\n",
       "2   0.23     Good     E     VS1   56.9   65.0    327  4.05  4.07  2.31\n",
       "3   0.29  Premium     I     VS2   62.4   58.0    334  4.20  4.23  2.63\n",
       "4   0.31     Good     J     SI2   63.3   58.0    335  4.34  4.35  2.75"
      ]
     },
     "execution_count": 53,
     "metadata": {},
     "output_type": "execute_result"
    }
   ],
   "source": [
    "df.head()"
   ]
  },
  {
   "cell_type": "code",
   "execution_count": 54,
   "id": "483e34dd",
   "metadata": {},
   "outputs": [],
   "source": [
    "from sklearn.compose import ColumnTransformer\n",
    "from sklearn.pipeline import Pipeline\n",
    "from sklearn.preprocessing import OneHotEncoder\n",
    "from sklearn.metrics import r2_score,mean_absolute_error\n",
    "from sklearn.preprocessing import OneHotEncoder, StandardScaler, RobustScaler\n",
    "from sklearn import metrics\n",
    "\n",
    "from sklearn.linear_model import LinearRegression,Ridge,Lasso\n",
    "from sklearn.neighbors import KNeighborsRegressor\n",
    "from sklearn.tree import DecisionTreeRegressor\n",
    "from sklearn.ensemble import RandomForestRegressor,GradientBoostingRegressor,AdaBoostRegressor,ExtraTreesRegressor\n",
    "from sklearn.svm import SVR\n",
    "from xgboost import XGBRegressor"
   ]
  },
  {
   "cell_type": "markdown",
   "id": "03a342e6",
   "metadata": {},
   "source": [
    "## Column Transformer\n",
    "\n",
    "Column Transformer is a tool in scikit-learn library that allows you to apply different transformers to different columns or subsets of columns in a dataset. It is particularly useful when you have mixed data types, such as numerical and categorical features, and need to apply different preprocessing steps to each type. With Column Transformer, you can define a transformer pipeline for each subset of columns and apply them all at once. This can simplify your preprocessing code and make it easier to apply the same transformations to new data."
   ]
  },
  {
   "cell_type": "code",
   "execution_count": 55,
   "id": "dac7f81e",
   "metadata": {},
   "outputs": [],
   "source": [
    "# define the column transformer\n",
    "ct = ColumnTransformer(\n",
    "    transformers=[\n",
    "        ('ohe', OneHotEncoder(sparse=False, drop='first'), [1, 2, 3])\n",
    "    ],\n",
    "    remainder='passthrough'\n",
    ")"
   ]
  },
  {
   "cell_type": "markdown",
   "id": "cd9e88c7",
   "metadata": {},
   "source": [
    "## One Hot Encoder\n",
    "\n",
    "One Hot Encoder is a technique used for converting categorical data into numerical data that can be used by machine learning algorithms. It creates a binary column for each category in the categorical feature, where a value of 1 is assigned to the corresponding category, and 0 for all other categories. This ensures that the categorical data can be used in machine learning algorithms that require numerical data, while preserving the information about the categories. One Hot Encoding can be applied to both nominal and ordinal categorical variables."
   ]
  },
  {
   "cell_type": "code",
   "execution_count": 56,
   "id": "0ed07736",
   "metadata": {},
   "outputs": [
    {
     "name": "stderr",
     "output_type": "stream",
     "text": [
      "C:\\Users\\Admin\\AppData\\Local\\Programs\\Python\\Python310\\lib\\site-packages\\sklearn\\preprocessing\\_encoders.py:868: FutureWarning: `sparse` was renamed to `sparse_output` in version 1.2 and will be removed in 1.4. `sparse_output` is ignored unless you leave `sparse` to its default value.\n",
      "  warnings.warn(\n"
     ]
    }
   ],
   "source": [
    "# fit the column transformer on the training data and transform it\n",
    "\n",
    "X_train = ct.fit_transform(X_train)\n",
    "\n",
    "# transform the test data using the fitted column transformer\n",
    "\n",
    "X_test = ct.transform(X_test)"
   ]
  },
  {
   "cell_type": "markdown",
   "id": "dce59705",
   "metadata": {},
   "source": [
    "## Robust Scaler\n",
    "\n",
    "Robust Scaler is a data preprocessing technique used to scale numerical data in a way that is robust to outliers. It scales the data by subtracting the median and then dividing by the interquartile range (IQR) of each feature. It works by calculating the median and IQR of each feature and then scaling the feature values by subtracting the median and dividing by the IQR. This helps in reducing the impact of outliers on the scaling process, making it more reliable for datasets with extreme values."
   ]
  },
  {
   "cell_type": "code",
   "execution_count": 57,
   "id": "50b24d6a",
   "metadata": {},
   "outputs": [],
   "source": [
    "scaler = RobustScaler()\n",
    "\n",
    "# fit the column transformer on the training data and transform it\n",
    "\n",
    "X_train = scaler.fit_transform(X_train)\n",
    "\n",
    "# transform the test data using the fitted column transformer\n",
    "\n",
    "X_test = scaler.transform(X_test)"
   ]
  },
  {
   "cell_type": "markdown",
   "id": "78b903d9",
   "metadata": {},
   "source": [
    "# MLflow\n",
    "\n",
    "MLflow is an open source platform for managing the end-to-end machine learning lifecycle. It provides a set of tools and APIs for tracking experiments, packaging code into reproducible runs, and sharing and deploying models.\n",
    "\n",
    "MLflow allows data scientists to easily track and compare experiments, so they can see how different model architectures, hyperparameters, and datasets perform. It also provides a model registry for storing and versioning trained models, and a deployment API for serving models in real-time.\n",
    "\n",
    "MLflow is designed to be language-agnostic, so it can be used with a wide range of machine learning frameworks and libraries, including TensorFlow, PyTorch, Scikit-learn, and more. It is a popular tool in industry and academia for managing the machine learning workflow, making it easier to develop, test, and deploy machine learning models.\n",
    "\n",
    "\n",
    "\n",
    "\n"
   ]
  },
  {
   "cell_type": "markdown",
   "id": "294ad2ed",
   "metadata": {},
   "source": [
    "## Introduction to Experiment Tracking\n",
    "**Terminologies:**\n",
    "> 1. Experiment  \n",
    "> 2. Run  \n",
    "> 3. Metadata  (i.e. Tags, Parameters, Metrics)  \n",
    "> 4. Artifacts (i.e. Output files associated with experiment runs)\n",
    "\n",
    "**What do you want to track for each Experiment Run?**\n",
    "1. Training and Validation Data Used\n",
    "2. Hyperparameters\n",
    "3. Metrics\n",
    "4. Models\n",
    "\n",
    "**Why Track?**\n",
    "> Organization\n",
    "> Optimization\n",
    "> Reproducibility\n",
    "\n",
    "**Tool - MLFlow**  \n",
    "MLFlow helps you to organize your experiments into runs.\n",
    "\n",
    "**MLFlow keeps track of:**\n",
    "> Tags  \n",
    "> Parameters  \n",
    "> Metrics  \n",
    "> Models  \n",
    "> Artifact  \n",
    "> Source code, Start and End Time, Authors etc..\n",
    "\n",
    "**Run below mentioned commands to install mlflow on your system:**\n",
    "```\n",
    "pip install mlflow\n",
    "mlflow ui --backend-store-uri sqlite:///mlflow.db\n",
    "```"
   ]
  },
  {
   "cell_type": "markdown",
   "id": "9e8bda67",
   "metadata": {},
   "source": [
    "## Introduction to MLFlow\n",
    "\n",
    "**Step 1 - Import MLFlow**\n",
    "> `import mlflow`\n",
    "\n",
    "**Step 2 - Set the tracker and experiment**\n",
    "> `mlflow.set_tracking_uri(DATABASE_URI)`  \n",
    "> `mlflow.set_experiment(\"EXPERIMENT_NAME\")`\n",
    "\n",
    "**Step 3 - Start a experiment run**\n",
    "> `with mlflow.start_run():`\n",
    "\n",
    "**Step 4 - Logging the metadata**\n",
    "> `mlflow.set_tag(KEY, VALUE)`  \n",
    "> `mlflow.log_param(KEY, VALUE)`\n",
    "> `mlflow.log_metric(KEY, VALUE)`\n",
    "\n",
    "**Step 5 - Logging the model and other files (2 ways)**\n",
    "> **Way 1 -** `mlflow.<FRAMEWORK>.log_model(MODEL_OBJECT, artifact_path=\"PATH\")`  \n",
    "> **Way 2 -** `mlflow.log_artifact(LOCAL_PATH, artifact_path=\"PATH\")`"
   ]
  },
  {
   "cell_type": "markdown",
   "id": "98f26b83",
   "metadata": {},
   "source": [
    "## Running the Experiment"
   ]
  },
  {
   "cell_type": "code",
   "execution_count": 58,
   "id": "74762e64",
   "metadata": {},
   "outputs": [],
   "source": [
    "import mlflow"
   ]
  },
  {
   "cell_type": "code",
   "execution_count": 59,
   "id": "ae3ad2c7",
   "metadata": {},
   "outputs": [
    {
     "name": "stderr",
     "output_type": "stream",
     "text": [
      "2023/05/08 07:33:13 INFO mlflow.tracking.fluent: Experiment with name 'Diamond Price Prediction' does not exist. Creating a new experiment.\n"
     ]
    },
    {
     "data": {
      "text/plain": [
       "<Experiment: artifact_location='file:///D:/Projects/Experiment%20Tracking%20with%20MLFlow/mlruns/979578538362533886', creation_time=1683511393008, experiment_id='979578538362533886', last_update_time=1683511393008, lifecycle_stage='active', name='Diamond Price Prediction', tags={}>"
      ]
     },
     "execution_count": 59,
     "metadata": {},
     "output_type": "execute_result"
    }
   ],
   "source": [
    "# mlflow.set_tracking_uri(\"sqlite:///mlflow.db\")\n",
    "\n",
    "mlflow.set_experiment(\"Diamond Price Prediction\")"
   ]
  },
  {
   "cell_type": "code",
   "execution_count": 60,
   "id": "72b935d1",
   "metadata": {},
   "outputs": [],
   "source": [
    "from pickle import dump\n",
    "\n",
    "dump(scaler, open('models/standard_scaler.pkl', 'wb'))"
   ]
  },
  {
   "cell_type": "markdown",
   "id": "a85328c1",
   "metadata": {},
   "source": [
    "## Experiment 1 - Training Linear Regression"
   ]
  },
  {
   "cell_type": "markdown",
   "id": "3aad245a",
   "metadata": {},
   "source": [
    "**Linear Regression**\n",
    "\n",
    "Linear regression is a statistical method used to model the relationship between a dependent variable and one or more independent variables. It assumes that the relationship between the variables is linear, which means that a change in one variable is associated with a proportional change in the other variable. The goal of linear regression is to find the best-fit line that minimizes the difference between the predicted values and the actual values of the dependent variable. This line can be used to predict the value of the dependent variable for new values of the independent variable. Linear regression can be used for both simple and multiple regression, and it is widely used in various fields such as economics, finance, and social sciences."
   ]
  },
  {
   "cell_type": "code",
   "execution_count": 61,
   "id": "11dd0403",
   "metadata": {},
   "outputs": [],
   "source": [
    "# Start MLflow experiment\n",
    "with mlflow.start_run(run_name=\"Linear Regression\"):\n",
    "    \n",
    "    mlflow.set_tag(\"dev\", \"Abdul Jaweed\")\n",
    "    mlflow.set_tag(\"Algos\", \"Linear Regression\")\n",
    "\n",
    "    # Train model\n",
    "    lr = LinearRegression()\n",
    "    lr.fit(X_train, y_train)\n",
    "\n",
    "    # Make predictions\n",
    "    y_pred = lr.predict(X_test)\n",
    "\n",
    "    # Calculate metrics\n",
    "    rmse = np.sqrt(np.mean((y_pred - y_test) ** 2))\n",
    "    r2 = r2_score(y_test, y_pred)\n",
    "    adj_r2 = 1 - (1 - r2) * ((X_test.shape[0] - 1) / (X_test.shape[0] - X_test.shape[1] - 1))\n",
    "\n",
    "    # Log model parameters and metrics to MLflow\n",
    "    mlflow.log_param(\"alpha\", 0.5)\n",
    "    mlflow.log_param(\"l1_ratio\", 0.1)\n",
    "    mlflow.log_metric(\"rmse\", rmse)\n",
    "    mlflow.log_metric(\"r2_score\", r2)\n",
    "    mlflow.log_metric(\"adj_r2_score\", adj_r2)\n",
    "\n",
    "    # Log model artifact (i.e., the trained model) to MLflow\n",
    "    #mlflow.sklearn.log_model(lr, \"model\")\n",
    "    \n",
    "    mlflow.sklearn.log_model(lr, artifact_path=\"models\")\n",
    "    mlflow.log_artifact(\"models/standard_scaler.pkl\")"
   ]
  },
  {
   "cell_type": "markdown",
   "id": "ae08ab9a",
   "metadata": {},
   "source": [
    "## Experiment 2 - Training Ridge Regression"
   ]
  },
  {
   "cell_type": "markdown",
   "id": "05e6986c",
   "metadata": {},
   "source": [
    "**Ridge Regression**\n",
    "\n",
    "Ridge Regression is a regularized linear regression technique that aims to address the issue of overfitting in high-dimensional data. It adds a penalty term to the cost function that is proportional to the sum of the squared values of the regression coefficients. This penalty term shrinks the coefficients towards zero and reduces their variance, which helps to prevent overfitting. The amount of regularization is controlled by a hyperparameter called the regularization parameter or lambda, which needs to be chosen carefully based on the data. Ridge Regression is particularly useful when there is multicollinearity among the predictor variables, as it can help to stabilize the coefficients and make them more interpretable."
   ]
  },
  {
   "cell_type": "code",
   "execution_count": 62,
   "id": "63fa032d",
   "metadata": {},
   "outputs": [],
   "source": [
    "# Start MLflow experiment\n",
    "with mlflow.start_run(run_name=\"Ridge Regression\"):\n",
    "    mlflow.set_tag(\"dev\", \"Abdul Jaweed\")\n",
    "    mlflow.set_tag(\"Algos\", \"Ridge Regression\")\n",
    "\n",
    "    # Train model\n",
    "    ridge = Ridge(alpha=10)\n",
    "    ridge.fit(X_train, y_train)\n",
    "\n",
    "    # Make predictions\n",
    "    y_pred = ridge.predict(X_test)\n",
    "\n",
    "    # Calculate metrics\n",
    "    rmse = np.sqrt(np.mean((y_pred - y_test) ** 2))\n",
    "    r2 = r2_score(y_test, y_pred)\n",
    "    adj_r2 = 1 - (1 - r2) * ((X_test.shape[0] - 1) / (X_test.shape[0] - X_test.shape[1] - 1))\n",
    "\n",
    "    # Log model parameters and metrics to MLflow\n",
    "    mlflow.log_param(\"alpha\", 10)\n",
    "    mlflow.log_metric(\"rmse\", rmse)\n",
    "    mlflow.log_metric(\"r2_score\", r2)\n",
    "    mlflow.log_metric(\"adj_r2_score\", adj_r2)\n",
    "\n",
    "    # Log model artifact (i.e., the trained model) to MLflow\n",
    "    #mlflow.sklearn.log_model(ridge, \"model\")\n",
    "    \n",
    "    mlflow.sklearn.log_model(ridge, artifact_path=\"models\")\n",
    "    mlflow.log_artifact(\"models/standard_scaler.pkl\")"
   ]
  },
  {
   "cell_type": "markdown",
   "id": "12bc113b",
   "metadata": {},
   "source": [
    "## Experiment 3 - Training Lasso Regression"
   ]
  },
  {
   "cell_type": "markdown",
   "id": "849e1720",
   "metadata": {},
   "source": [
    "**Lasso Regression**\n",
    "\n",
    "Lasso Regression is a type of linear regression that performs both variable selection and regularization to prevent overfitting. It uses a penalty term called L1 regularization to shrink the coefficients of less important features towards zero, effectively dropping them from the model. This results in a simpler and more interpretable model that can generalize better to new data. Lasso Regression is particularly useful in cases where there are many features and only a subset of them are expected to be important in predicting the outcome variable."
   ]
  },
  {
   "cell_type": "code",
   "execution_count": 63,
   "id": "b1c63855",
   "metadata": {},
   "outputs": [],
   "source": [
    "# Start MLflow experiment\n",
    "with mlflow.start_run(run_name=\"Lasso Regression\"):\n",
    "    mlflow.set_tag(\"dev\", \"Abdul Jaweed\")\n",
    "    mlflow.set_tag(\"Algos\", \"Lasso Regression\")\n",
    "\n",
    "    # Train model\n",
    "    lasso = Lasso(alpha=0.001)\n",
    "    lasso.fit(X_train, y_train)\n",
    "\n",
    "    # Make predictions\n",
    "    y_pred = lasso.predict(X_test)\n",
    "\n",
    "    # Calculate metrics\n",
    "    rmse = np.sqrt(np.mean((y_pred - y_test) ** 2))\n",
    "    r2 = r2_score(y_test, y_pred)\n",
    "    adj_r2 = 1 - (1 - r2) * ((X_test.shape[0] - 1) / (X_test.shape[0] - X_test.shape[1] - 1))\n",
    "\n",
    "    # Log model parameters and metrics to MLflow\n",
    "    mlflow.log_param(\"alpha\", 0.001)\n",
    "    mlflow.log_metric(\"rmse\", rmse)\n",
    "    mlflow.log_metric(\"r2_score\", r2)\n",
    "    mlflow.log_metric(\"adj_r2_score\", adj_r2)\n",
    "\n",
    "    # Log model artifact (i.e., the trained model) to MLflow\n",
    "    #mlflow.sklearn.log_model(lasso, \"model\")\n",
    "    \n",
    "    mlflow.sklearn.log_model(lasso, artifact_path=\"models\")\n",
    "    mlflow.log_artifact(\"models/standard_scaler.pkl\")"
   ]
  },
  {
   "cell_type": "markdown",
   "id": "b69bd49d",
   "metadata": {},
   "source": [
    "## Experiment 4 - Training Random Forest Regression"
   ]
  },
  {
   "cell_type": "markdown",
   "id": "8174f8d8",
   "metadata": {},
   "source": [
    "**Random Forest**\n",
    "\n",
    "Random forest regression is a machine learning algorithm that combines multiple decision trees to create a more robust and accurate model for regression analysis. It works by generating a large number of decision trees, each of which is trained on a random subset of the data and a random subset of the input features. The predictions from each tree are then combined to create an overall prediction for the model. This approach helps to reduce overfitting and improve the accuracy of the model by reducing the variance in the predictions. Random forest regression can be applied to a wide range of regression problems, including predicting numeric values, such as stock prices or home values, and estimating continuous variables, such as customer lifetime value or energy consumption."
   ]
  },
  {
   "cell_type": "code",
   "execution_count": 64,
   "id": "811663d9",
   "metadata": {},
   "outputs": [],
   "source": [
    "from sklearn.ensemble import RandomForestRegressor\n",
    "import mlflow\n",
    "\n",
    "# Start MLflow experiment\n",
    "with mlflow.start_run(run_name=\"Random Forest\"):\n",
    "    mlflow.set_tag(\"dev\", \"Abdul Jaweed\")\n",
    "    mlflow.set_tag(\"Algos\", \"Random Forest\")\n",
    "\n",
    "    # Train model\n",
    "    rf = RandomForestRegressor(n_estimators=155,\n",
    "                              random_state=3,\n",
    "                              max_samples=0.5,\n",
    "                              max_features=0.75,\n",
    "                              max_depth=15)\n",
    "    rf.fit(X_train, y_train)\n",
    "\n",
    "    # Make predictions\n",
    "    y_pred = rf.predict(X_test)\n",
    "\n",
    "    # Calculate metrics\n",
    "    rmse = np.sqrt(np.mean((y_pred - y_test) ** 2))\n",
    "    r2 = r2_score(y_test, y_pred)\n",
    "    adj_r2 = 1 - (1 - r2) * ((X_test.shape[0] - 1) / (X_test.shape[1] - 1))\n",
    "    \n",
    "    # Log model parameters and metrics to MLflow\n",
    "    mlflow.log_param(\"n_estimators\", 155)\n",
    "    mlflow.log_param(\"max_depth\", 15)\n",
    "    mlflow.log_param(\"random_state\", 3)\n",
    "    mlflow.log_param(\"max_samples\", 0.5)\n",
    "    mlflow.log_param(\"max_features\", 0.75)\n",
    "    mlflow.log_metric(\"rmse\", rmse)\n",
    "    mlflow.log_metric(\"r2_score\", r2)\n",
    "    mlflow.log_metric(\"adj_r2_score\", adj_r2)\n",
    "\n",
    "    # Log model artifact (i.e., the trained model) to MLflow\n",
    "    #mlflow.sklearn.log_model(rf, \"model\")\n",
    "    \n",
    "    mlflow.sklearn.log_model(rf, artifact_path=\"models\")\n",
    "    mlflow.log_artifact(\"models/standard_scaler.pkl\")"
   ]
  },
  {
   "cell_type": "markdown",
   "id": "e4ad4e8b",
   "metadata": {},
   "source": [
    "**SVM (Support Vector Machine)**\n",
    "\n",
    "Support Vector Machine (SVM) Regression is a supervised machine learning algorithm used for regression analysis. It finds the best possible line or hyperplane that fits and generalizes well on the given data by identifying support vectors closest to the data points in the feature space. The choice of kernel function is crucial for its accuracy and performance. It can handle non-linear data and is used in applications such as financial forecasting, stock market analysis, and medical diagnosis."
   ]
  },
  {
   "cell_type": "code",
   "execution_count": 65,
   "id": "bf30071b",
   "metadata": {},
   "outputs": [],
   "source": [
    "# svr = SVR(kernel='rbf',C=1000,epsilon=0.1)\n",
    "\n",
    "# svr.fit(X_train,y_train)\n",
    "\n",
    "# y_pred = svr.predict(X_test)\n",
    "\n",
    "# print('R2 score',r2_score(y_test,y_pred))\n",
    "# print('MAE',mean_absolute_error(y_test,y_pred))"
   ]
  },
  {
   "cell_type": "markdown",
   "id": "ca67ac31",
   "metadata": {},
   "source": [
    "### SVM Taking too much time to execute it "
   ]
  },
  {
   "cell_type": "markdown",
   "id": "e73d5ff3",
   "metadata": {},
   "source": [
    "## Experiment 5 - Training Decision Tree Regression"
   ]
  },
  {
   "cell_type": "markdown",
   "id": "3969a94b",
   "metadata": {},
   "source": [
    "**Decision Tree**\n",
    "\n",
    "A decision tree is a type of machine learning algorithm used for classification and regression analysis. It involves creating a tree-like model of decisions and their possible consequences. The tree is constructed by recursively splitting the data into smaller subsets, based on the features that best separate the data. Each internal node of the tree represents a decision based on a feature, and each leaf node represents a predicted outcome. Decision trees are simple to understand and interpret, and can handle both categorical and numerical data. However, they are prone to overfitting and may not perform well on datasets with complex relationships between variables."
   ]
  },
  {
   "cell_type": "code",
   "execution_count": 66,
   "id": "00535d97",
   "metadata": {},
   "outputs": [],
   "source": [
    "# Start MLflow experiment\n",
    "with mlflow.start_run(run_name=\"Decision Tree\"):\n",
    "    mlflow.set_tag(\"dev\", \"Abdul Jaweed\")\n",
    "    mlflow.set_tag(\"Algos\", \"Decision Tree\")\n",
    "\n",
    "    # Train model\n",
    "    dt = DecisionTreeRegressor(max_depth=8)\n",
    "    dt.fit(X_train, y_train)\n",
    "\n",
    "    # Make predictions\n",
    "    y_pred = dt.predict(X_test)\n",
    "\n",
    "    # Calculate metrics\n",
    "    rmse = np.sqrt(np.mean((y_pred - y_test) ** 2))\n",
    "    r2 = r2_score(y_test, y_pred)\n",
    "    adj_r2 = 1 - (1 - r2) * ((X_test.shape[0] - 1) / (X_test.shape[0] - X_test.shape[1] - 1))\n",
    "\n",
    "    # Log model parameters and metrics to MLflow\n",
    "    mlflow.log_param(\"max_depth\", 8)\n",
    "    mlflow.log_metric(\"rmse\", rmse)\n",
    "    mlflow.log_metric(\"r2_score\", r2)\n",
    "    mlflow.log_metric(\"adj_r2_score\", adj_r2)\n",
    "\n",
    "    # Log model artifact (i.e., the trained model) to MLflow\n",
    "    #mlflow.sklearn.log_model(dt, \"model\")\n",
    "    \n",
    "    mlflow.sklearn.log_model(dt, artifact_path=\"models\")\n",
    "    mlflow.log_artifact(\"models/standard_scaler.pkl\")"
   ]
  },
  {
   "cell_type": "markdown",
   "id": "36f0af8a",
   "metadata": {},
   "source": [
    "## Experiment 6 - Training K-Nearest Neighbors (KNN) Regression"
   ]
  },
  {
   "cell_type": "markdown",
   "id": "4597e379",
   "metadata": {},
   "source": [
    "**KNN**\n",
    "\n",
    "K-Nearest Neighbors (KNN) is a simple and widely used algorithm for classification and regression tasks in machine learning. The basic idea behind KNN is to find the K closest data points in the training set to a new, unlabeled data point and use the labels of those K neighbors to predict the label of the new data point. KNN can be used for both binary and multi-class classification, as well as regression tasks. One of the main advantages of KNN is its simplicity and ease of implementation, but it can become computationally expensive for large datasets."
   ]
  },
  {
   "cell_type": "code",
   "execution_count": 67,
   "id": "45d8f635",
   "metadata": {},
   "outputs": [],
   "source": [
    "from sklearn.neighbors import KNeighborsRegressor\n",
    "import mlflow\n",
    "\n",
    "# Start MLflow experiment\n",
    "with mlflow.start_run(run_name=\"KNN\"):\n",
    "    mlflow.set_tag(\"dev\", \"Abdul Jaweed\")\n",
    "    mlflow.set_tag(\"Algos\", \"KNN\")\n",
    "\n",
    "    # Train model\n",
    "    knn = KNeighborsRegressor(n_neighbors=3)\n",
    "    knn.fit(X_train, y_train)\n",
    "\n",
    "    # Make predictions\n",
    "    y_pred = knn.predict(X_test)\n",
    "\n",
    "    # Calculate metrics\n",
    "    rmse = np.sqrt(np.mean((y_pred - y_test) ** 2))\n",
    "    r2 = r2_score(y_test, y_pred)\n",
    "    adj_r2 = 1 - (1 - r2) * ((X_test.shape[0] - 1) / (X_test.shape[0] - X_test.shape[1] - 1))\n",
    "\n",
    "    # Log model parameters and metrics to MLflow\n",
    "    mlflow.log_param(\"n_neighbors\", 3)\n",
    "    mlflow.log_metric(\"rmse\", rmse)\n",
    "    mlflow.log_metric(\"r2_score\", r2)\n",
    "    mlflow.log_metric(\"adj_r2_score\", adj_r2)\n",
    "\n",
    "    # Log model artifact (i.e., the trained model) to MLflow\n",
    "    #mlflow.sklearn.log_model(knn, \"model\")\n",
    "    \n",
    "    mlflow.sklearn.log_model(knn, artifact_path=\"models\")\n",
    "    mlflow.log_artifact(\"models/standard_scaler.pkl\")"
   ]
  },
  {
   "cell_type": "markdown",
   "id": "9d4ff1a7",
   "metadata": {},
   "source": [
    "## Experiment 7 - Training Gradient Boost Regression"
   ]
  },
  {
   "cell_type": "markdown",
   "id": "70d319be",
   "metadata": {},
   "source": [
    "**Gradient Boost**\n",
    "\n",
    "Gradient Boosting is a machine learning algorithm that combines multiple weak models, usually decision trees, to create a strong predictive model. The algorithm works by iteratively fitting new models to the residuals of the previous model, with each new model being trained to correct the errors of the previous model. Gradient Boosting is effective for a wide range of prediction problems, including classification and regression tasks, and has been used to win several machine learning competitions."
   ]
  },
  {
   "cell_type": "code",
   "execution_count": 68,
   "id": "6fe4f1b0",
   "metadata": {},
   "outputs": [],
   "source": [
    "# Start MLflow experiment\n",
    "with mlflow.start_run(run_name=\"Gradient Boosting\"):\n",
    "    mlflow.set_tag(\"dev\", \"Abdul Jaweed\")\n",
    "    mlflow.set_tag(\"Algos\", \"Gradient Boosting\")\n",
    "\n",
    "    # Train model\n",
    "    gb = GradientBoostingRegressor(n_estimators=500, max_depth=8)\n",
    "    gb.fit(X_train, y_train)\n",
    "\n",
    "    # Make predictions\n",
    "    y_pred = gb.predict(X_test)\n",
    "\n",
    "    # Calculate metrics\n",
    "    rmse = np.sqrt(np.mean((y_pred - y_test) ** 2))\n",
    "    r2 = r2_score(y_test, y_pred)\n",
    "    adj_r2 = 1 - (1 - r2) * ((X_test.shape[0] - 1) / (X_test.shape[0] - X_test.shape[1] - 1))\n",
    "\n",
    "    # Log model parameters and metrics to MLflow\n",
    "    mlflow.log_param(\"n_estimators\", 500)\n",
    "    mlflow.log_param(\"max_depth\", 8)\n",
    "    mlflow.log_metric(\"rmse\", rmse)\n",
    "    mlflow.log_metric(\"r2_score\", r2)\n",
    "    mlflow.log_metric(\"adj_r2_score\", adj_r2)\n",
    "\n",
    "    # Log model artifact (i.e., the trained model) to MLflow\n",
    "    #mlflow.sklearn.log_model(gb, \"model\")\n",
    "    \n",
    "    mlflow.sklearn.log_model(gb, artifact_path=\"models\")\n",
    "    mlflow.log_artifact(\"models/standard_scaler.pkl\")"
   ]
  },
  {
   "cell_type": "markdown",
   "id": "a072c86e",
   "metadata": {},
   "source": [
    "## Experiment 8 - Training XGBoost (Extreme Gradient Boosting) Regression"
   ]
  },
  {
   "cell_type": "markdown",
   "id": "0db9d9fd",
   "metadata": {},
   "source": [
    "**XGBoost**\n",
    "\n",
    "XGBoost (Extreme Gradient Boosting) is a popular and powerful machine learning algorithm that is designed to be highly efficient and scalable. It is an optimized implementation of the gradient boosting algorithm that builds upon the basic algorithm by adding a number of key optimizations, such as parallel tree construction, hardware optimization, and regularization.\n",
    "\n",
    "XGBoost is particularly well-suited for solving large-scale, high-dimensional prediction problems, such as those commonly encountered in industry and academia. It has been used to win numerous machine learning competitions and is widely regarded as one of the top-performing algorithms for a wide range of prediction tasks.\n",
    "\n",
    "Overall, XGBoost is a versatile and flexible algorithm that is widely used in various fields, including finance, healthcare, and natural language processing."
   ]
  },
  {
   "cell_type": "code",
   "execution_count": 69,
   "id": "9a935217",
   "metadata": {},
   "outputs": [],
   "source": [
    "# Start MLflow experiment\n",
    "with mlflow.start_run(run_name=\"XGBoost\"):\n",
    "    mlflow.set_tag(\"dev\", \"Abdul Jaweed\")\n",
    "    mlflow.set_tag(\"Algos\", \"XGBoost\")\n",
    "\n",
    "    # Train model\n",
    "    xgb = XGBRegressor(n_estimators=100, max_depth=5,learning_rate=0.5, objective=\"reg:squarederror\")\n",
    "    xgb.fit(X_train, y_train)\n",
    "\n",
    "    # Make predictions\n",
    "    y_pred = xgb.predict(X_test)\n",
    "\n",
    "    # Calculate metrics\n",
    "    rmse = np.sqrt(np.mean((y_pred - y_test) ** 2))\n",
    "    r2 = r2_score(y_test, y_pred)\n",
    "    adj_r2 = 1 - (1 - r2) * ((X_test.shape[0] - 1) / (X_test.shape[0] - X_test.shape[1] - 1))\n",
    "\n",
    "    # Log model parameters and metrics to MLflow\n",
    "    mlflow.log_param(\"n_estimators\", 100)\n",
    "    mlflow.log_param(\"max_depth\", 5)\n",
    "    mlflow.log_param(\"learning_rate\", 0.5)\n",
    "    mlflow.log_metric(\"rmse\", rmse)\n",
    "    mlflow.log_metric(\"r2_score\", r2)\n",
    "    mlflow.log_metric(\"adj_r2_score\", adj_r2)\n",
    "\n",
    "    # Log model artifact (i.e., the trained model) to MLflow\n",
    "    #mlflow.sklearn.log_model(xgb, \"model\")\n",
    "    \n",
    "    mlflow.sklearn.log_model(xgb, artifact_path=\"models\")\n",
    "    mlflow.log_artifact(\"models/standard_scaler.pkl\")"
   ]
  },
  {
   "cell_type": "markdown",
   "id": "52871ac7",
   "metadata": {},
   "source": [
    "## Experiment 9 - Training AdaBoost (Adaptive Boosting) Regression"
   ]
  },
  {
   "cell_type": "markdown",
   "id": "53b05fde",
   "metadata": {},
   "source": [
    "**AdaBoost**\n",
    "\n",
    "AdaBoost (Adaptive Boosting) is a machine learning algorithm that combines multiple weak or simple models into a single, strong predictive model.\n",
    "\n",
    "The algorithm works by iteratively training new models to correct the errors of the previous models. Each new model is trained on a modified version of the training data, where the samples that were incorrectly classified by the previous models are given more weight.\n",
    "\n",
    "AdaBoost is particularly effective at classification problems, but can also be used for regression tasks. It has been shown to perform well in a variety of domains, including face detection, text classification, and object recognition.\n",
    "\n",
    "Overall, AdaBoost is a powerful and widely used machine learning algorithm that is known for its simplicity and effectiveness."
   ]
  },
  {
   "cell_type": "code",
   "execution_count": 70,
   "id": "7bf249de",
   "metadata": {},
   "outputs": [],
   "source": [
    "# Start MLflow experiment\n",
    "with mlflow.start_run(run_name=\"AdaBoost\"):\n",
    "    mlflow.set_tag(\"dev\", \"Abdul Jaweed\")\n",
    "    mlflow.set_tag(\"Algos\", \"AdaBoost\")\n",
    "\n",
    "    # Train model\n",
    "    ada = AdaBoostRegressor(n_estimators=15, learning_rate=1.0)\n",
    "    ada.fit(X_train, y_train)\n",
    "\n",
    "    # Make predictions\n",
    "    y_pred = ada.predict(X_test)\n",
    "\n",
    "    # Calculate metrics\n",
    "    rmse = np.sqrt(np.mean((y_pred - y_test) ** 2))\n",
    "    r2 = r2_score(y_test, y_pred)\n",
    "    adj_r2 = 1 - (1 - r2) * ((X_test.shape[0] - 1) / (X_test.shape[0] - X_test.shape[1] - 1))\n",
    "\n",
    "    # Log model parameters and metrics to MLflow\n",
    "    mlflow.log_param(\"n_estimators\", 15)\n",
    "    mlflow.log_param(\"learning_rate\", 1.0)\n",
    "    mlflow.log_metric(\"rmse\", rmse)\n",
    "    mlflow.log_metric(\"r2_score\", r2)\n",
    "    mlflow.log_metric(\"adj_r2_score\", adj_r2)\n",
    "\n",
    "    # Log model artifact (i.e., the trained model) to MLflow\n",
    "    #mlflow.sklearn.log_model(ada, \"model\")\n",
    "    \n",
    "    mlflow.sklearn.log_model(ada, artifact_path=\"models\")\n",
    "    mlflow.log_artifact(\"models/standard_scaler.pkl\")"
   ]
  },
  {
   "cell_type": "code",
   "execution_count": null,
   "id": "569c7655",
   "metadata": {},
   "outputs": [],
   "source": []
  }
 ],
 "metadata": {
  "kernelspec": {
   "display_name": "Python 3 (ipykernel)",
   "language": "python",
   "name": "python3"
  },
  "language_info": {
   "codemirror_mode": {
    "name": "ipython",
    "version": 3
   },
   "file_extension": ".py",
   "mimetype": "text/x-python",
   "name": "python",
   "nbconvert_exporter": "python",
   "pygments_lexer": "ipython3",
   "version": "3.10.7"
  }
 },
 "nbformat": 4,
 "nbformat_minor": 5
}
